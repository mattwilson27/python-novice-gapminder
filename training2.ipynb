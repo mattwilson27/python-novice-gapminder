{
 "cells": [
  {
   "cell_type": "code",
   "execution_count": 1,
   "metadata": {},
   "outputs": [
    {
     "data": {
      "text/plain": [
       "3"
      ]
     },
     "execution_count": 1,
     "metadata": {},
     "output_type": "execute_result"
    }
   ],
   "source": [
    "3"
   ]
  },
  {
   "cell_type": "code",
   "execution_count": 2,
   "metadata": {},
   "outputs": [
    {
     "data": {
      "text/plain": [
       "'abc'"
      ]
     },
     "execution_count": 2,
     "metadata": {},
     "output_type": "execute_result"
    }
   ],
   "source": [
    "'abc'"
   ]
  },
  {
   "cell_type": "code",
   "execution_count": 3,
   "metadata": {},
   "outputs": [
    {
     "ename": "NameError",
     "evalue": "name 'abc' is not defined",
     "output_type": "error",
     "traceback": [
      "\u001b[1;31m---------------------------------------------------------------------------\u001b[0m",
      "\u001b[1;31mNameError\u001b[0m                                 Traceback (most recent call last)",
      "\u001b[1;32m<ipython-input-3-03cfd743661f>\u001b[0m in \u001b[0;36m<module>\u001b[1;34m\u001b[0m\n\u001b[1;32m----> 1\u001b[1;33m \u001b[0mabc\u001b[0m\u001b[1;33m\u001b[0m\u001b[1;33m\u001b[0m\u001b[0m\n\u001b[0m",
      "\u001b[1;31mNameError\u001b[0m: name 'abc' is not defined"
     ]
    }
   ],
   "source": [
    "abc"
   ]
  },
  {
   "cell_type": "code",
   "execution_count": 4,
   "metadata": {},
   "outputs": [
    {
     "data": {
      "text/plain": [
       "<function min>"
      ]
     },
     "execution_count": 4,
     "metadata": {},
     "output_type": "execute_result"
    }
   ],
   "source": [
    "min"
   ]
  },
  {
   "cell_type": "code",
   "execution_count": 9,
   "metadata": {},
   "outputs": [],
   "source": [
    "age = 22\n",
    "first_name = 'Ahmed'"
   ]
  },
  {
   "cell_type": "code",
   "execution_count": 8,
   "metadata": {},
   "outputs": [
    {
     "data": {
      "text/plain": [
       "'Ahmed is 42 years old'"
      ]
     },
     "execution_count": 8,
     "metadata": {},
     "output_type": "execute_result"
    }
   ],
   "source": [
    "f'{first_name} is {age} years old'"
   ]
  },
  {
   "cell_type": "code",
   "execution_count": 7,
   "metadata": {},
   "outputs": [
    {
     "data": {
      "text/plain": [
       "'Ahmed'"
      ]
     },
     "execution_count": 7,
     "metadata": {},
     "output_type": "execute_result"
    }
   ],
   "source": [
    "first_name"
   ]
  },
  {
   "cell_type": "code",
   "execution_count": 10,
   "metadata": {},
   "outputs": [
    {
     "name": "stdout",
     "output_type": "stream",
     "text": [
      "Ahmed is 22 years old\n"
     ]
    }
   ],
   "source": [
    "print(first_name, 'is', age, 'years old')"
   ]
  },
  {
   "cell_type": "code",
   "execution_count": 14,
   "metadata": {},
   "outputs": [],
   "source": [
    "age = age + 3"
   ]
  },
  {
   "cell_type": "code",
   "execution_count": 13,
   "metadata": {},
   "outputs": [
    {
     "data": {
      "text/plain": [
       "25"
      ]
     },
     "execution_count": 13,
     "metadata": {},
     "output_type": "execute_result"
    }
   ],
   "source": [
    "age"
   ]
  },
  {
   "cell_type": "code",
   "execution_count": 15,
   "metadata": {},
   "outputs": [
    {
     "data": {
      "text/plain": [
       "'h'"
      ]
     },
     "execution_count": 15,
     "metadata": {},
     "output_type": "execute_result"
    }
   ],
   "source": [
    "atom_name = 'helium'\n",
    "atom_name[0]"
   ]
  },
  {
   "cell_type": "code",
   "execution_count": 16,
   "metadata": {},
   "outputs": [
    {
     "data": {
      "text/plain": [
       "'hel'"
      ]
     },
     "execution_count": 16,
     "metadata": {},
     "output_type": "execute_result"
    }
   ],
   "source": [
    "atom_name[0:3]"
   ]
  },
  {
   "cell_type": "code",
   "execution_count": 17,
   "metadata": {},
   "outputs": [
    {
     "data": {
      "text/plain": [
       "int"
      ]
     },
     "execution_count": 17,
     "metadata": {},
     "output_type": "execute_result"
    }
   ],
   "source": [
    "type(age)"
   ]
  },
  {
   "cell_type": "code",
   "execution_count": 18,
   "metadata": {},
   "outputs": [
    {
     "data": {
      "text/plain": [
       "float"
      ]
     },
     "execution_count": 18,
     "metadata": {},
     "output_type": "execute_result"
    }
   ],
   "source": [
    "type(1.45)"
   ]
  },
  {
   "cell_type": "code",
   "execution_count": 19,
   "metadata": {},
   "outputs": [
    {
     "data": {
      "text/plain": [
       "31"
      ]
     },
     "execution_count": 19,
     "metadata": {},
     "output_type": "execute_result"
    }
   ],
   "source": [
    "age + 3"
   ]
  },
  {
   "cell_type": "code",
   "execution_count": 20,
   "metadata": {},
   "outputs": [
    {
     "ename": "TypeError",
     "evalue": "must be str, not int",
     "output_type": "error",
     "traceback": [
      "\u001b[1;31m---------------------------------------------------------------------------\u001b[0m",
      "\u001b[1;31mTypeError\u001b[0m                                 Traceback (most recent call last)",
      "\u001b[1;32m<ipython-input-20-380dc7406be2>\u001b[0m in \u001b[0;36m<module>\u001b[1;34m\u001b[0m\n\u001b[1;32m----> 1\u001b[1;33m \u001b[0mfirst_name\u001b[0m \u001b[1;33m+\u001b[0m \u001b[1;36m3\u001b[0m\u001b[1;33m\u001b[0m\u001b[1;33m\u001b[0m\u001b[0m\n\u001b[0m",
      "\u001b[1;31mTypeError\u001b[0m: must be str, not int"
     ]
    }
   ],
   "source": [
    "first_name + 3"
   ]
  },
  {
   "cell_type": "code",
   "execution_count": 21,
   "metadata": {},
   "outputs": [
    {
     "data": {
      "text/plain": [
       "'AhmedABC'"
      ]
     },
     "execution_count": 21,
     "metadata": {},
     "output_type": "execute_result"
    }
   ],
   "source": [
    "first_name + 'ABC'"
   ]
  },
  {
   "cell_type": "code",
   "execution_count": 23,
   "metadata": {},
   "outputs": [
    {
     "data": {
      "text/plain": [
       "'Ahmed Walsh'"
      ]
     },
     "execution_count": 23,
     "metadata": {},
     "output_type": "execute_result"
    }
   ],
   "source": [
    "full_name = f'{first_name} Walsh'\n",
    "full_name"
   ]
  },
  {
   "cell_type": "code",
   "execution_count": 24,
   "metadata": {},
   "outputs": [
    {
     "data": {
      "text/plain": [
       "11"
      ]
     },
     "execution_count": 24,
     "metadata": {},
     "output_type": "execute_result"
    }
   ],
   "source": [
    "len(full_name)"
   ]
  },
  {
   "cell_type": "code",
   "execution_count": 25,
   "metadata": {},
   "outputs": [
    {
     "data": {
      "text/plain": [
       "0.5"
      ]
     },
     "execution_count": 25,
     "metadata": {},
     "output_type": "execute_result"
    }
   ],
   "source": [
    "1 / 2"
   ]
  },
  {
   "cell_type": "code",
   "execution_count": 26,
   "metadata": {},
   "outputs": [
    {
     "data": {
      "text/plain": [
       "float"
      ]
     },
     "execution_count": 26,
     "metadata": {},
     "output_type": "execute_result"
    }
   ],
   "source": [
    "type(1/2)"
   ]
  },
  {
   "cell_type": "code",
   "execution_count": 27,
   "metadata": {},
   "outputs": [
    {
     "data": {
      "text/plain": [
       "0"
      ]
     },
     "execution_count": 27,
     "metadata": {},
     "output_type": "execute_result"
    }
   ],
   "source": [
    "1//2"
   ]
  },
  {
   "cell_type": "code",
   "execution_count": 28,
   "metadata": {},
   "outputs": [
    {
     "data": {
      "text/plain": [
       "9.0"
      ]
     },
     "execution_count": 28,
     "metadata": {},
     "output_type": "execute_result"
    }
   ],
   "source": [
    "3.0 ** 2"
   ]
  },
  {
   "cell_type": "code",
   "execution_count": 29,
   "metadata": {},
   "outputs": [
    {
     "data": {
      "text/plain": [
       "0.3333333333333333"
      ]
     },
     "execution_count": 29,
     "metadata": {},
     "output_type": "execute_result"
    }
   ],
   "source": [
    "1/3"
   ]
  },
  {
   "cell_type": "code",
   "execution_count": 30,
   "metadata": {},
   "outputs": [
    {
     "data": {
      "text/plain": [
       "11"
      ]
     },
     "execution_count": 30,
     "metadata": {},
     "output_type": "execute_result"
    }
   ],
   "source": [
    "x = len(full_name)\n",
    "x"
   ]
  },
  {
   "cell_type": "code",
   "execution_count": 31,
   "metadata": {},
   "outputs": [
    {
     "name": "stdout",
     "output_type": "stream",
     "text": [
      "Ahmed Walsh\n"
     ]
    }
   ],
   "source": [
    "x = print(full_name)"
   ]
  },
  {
   "cell_type": "code",
   "execution_count": 32,
   "metadata": {},
   "outputs": [
    {
     "data": {
      "text/plain": [
       "NoneType"
      ]
     },
     "execution_count": 32,
     "metadata": {},
     "output_type": "execute_result"
    }
   ],
   "source": [
    "type(x)"
   ]
  },
  {
   "cell_type": "code",
   "execution_count": 33,
   "metadata": {},
   "outputs": [
    {
     "data": {
      "text/plain": [
       "-1"
      ]
     },
     "execution_count": 33,
     "metadata": {},
     "output_type": "execute_result"
    }
   ],
   "source": [
    "min(1 , 2, 3, 6, -1, 2)"
   ]
  },
  {
   "cell_type": "code",
   "execution_count": 34,
   "metadata": {},
   "outputs": [
    {
     "ename": "NameError",
     "evalue": "name 'a' is not defined",
     "output_type": "error",
     "traceback": [
      "\u001b[1;31m---------------------------------------------------------------------------\u001b[0m",
      "\u001b[1;31mNameError\u001b[0m                                 Traceback (most recent call last)",
      "\u001b[1;32m<ipython-input-34-3f786850e387>\u001b[0m in \u001b[0;36m<module>\u001b[1;34m\u001b[0m\n\u001b[1;32m----> 1\u001b[1;33m \u001b[0ma\u001b[0m\u001b[1;33m\u001b[0m\u001b[1;33m\u001b[0m\u001b[0m\n\u001b[0m",
      "\u001b[1;31mNameError\u001b[0m: name 'a' is not defined"
     ]
    }
   ],
   "source": [
    "a"
   ]
  },
  {
   "cell_type": "code",
   "execution_count": 35,
   "metadata": {},
   "outputs": [
    {
     "ename": "TypeError",
     "evalue": "'>' not supported between instances of 'str' and 'int'",
     "output_type": "error",
     "traceback": [
      "\u001b[1;31m---------------------------------------------------------------------------\u001b[0m",
      "\u001b[1;31mTypeError\u001b[0m                                 Traceback (most recent call last)",
      "\u001b[1;32m<ipython-input-35-e542df9f9a89>\u001b[0m in \u001b[0;36m<module>\u001b[1;34m\u001b[0m\n\u001b[1;32m----> 1\u001b[1;33m \u001b[0mmax\u001b[0m\u001b[1;33m(\u001b[0m\u001b[1;36m1\u001b[0m\u001b[1;33m,\u001b[0m \u001b[1;34m'a'\u001b[0m\u001b[1;33m)\u001b[0m\u001b[1;33m\u001b[0m\u001b[1;33m\u001b[0m\u001b[0m\n\u001b[0m",
      "\u001b[1;31mTypeError\u001b[0m: '>' not supported between instances of 'str' and 'int'"
     ]
    }
   ],
   "source": [
    "max(1, 'a')"
   ]
  },
  {
   "cell_type": "code",
   "execution_count": 38,
   "metadata": {},
   "outputs": [
    {
     "data": {
      "text/plain": [
       "3.71"
      ]
     },
     "execution_count": 38,
     "metadata": {},
     "output_type": "execute_result"
    }
   ],
   "source": [
    "round(3.712,2)"
   ]
  },
  {
   "cell_type": "code",
   "execution_count": 39,
   "metadata": {},
   "outputs": [
    {
     "ename": "SyntaxError",
     "evalue": "invalid syntax (<ipython-input-39-3c2ec47fa909>, line 1)",
     "output_type": "error",
     "traceback": [
      "\u001b[1;36m  File \u001b[1;32m\"<ipython-input-39-3c2ec47fa909>\"\u001b[1;36m, line \u001b[1;32m1\u001b[0m\n\u001b[1;33m    type(round?)\u001b[0m\n\u001b[1;37m              ^\u001b[0m\n\u001b[1;31mSyntaxError\u001b[0m\u001b[1;31m:\u001b[0m invalid syntax\n"
     ]
    }
   ],
   "source": [
    "type(round?)"
   ]
  },
  {
   "cell_type": "code",
   "execution_count": 40,
   "metadata": {},
   "outputs": [
    {
     "ename": "TypeError",
     "evalue": "Required argument 'number' (pos 1) not found",
     "output_type": "error",
     "traceback": [
      "\u001b[1;31m---------------------------------------------------------------------------\u001b[0m",
      "\u001b[1;31mTypeError\u001b[0m                                 Traceback (most recent call last)",
      "\u001b[1;32m<ipython-input-40-776eeab594c2>\u001b[0m in \u001b[0;36m<module>\u001b[1;34m\u001b[0m\n\u001b[1;32m----> 1\u001b[1;33m \u001b[0mround\u001b[0m\u001b[1;33m(\u001b[0m\u001b[1;33m)\u001b[0m\u001b[1;33m\u001b[0m\u001b[1;33m\u001b[0m\u001b[0m\n\u001b[0m",
      "\u001b[1;31mTypeError\u001b[0m: Required argument 'number' (pos 1) not found"
     ]
    }
   ],
   "source": [
    "round()"
   ]
  },
  {
   "cell_type": "code",
   "execution_count": 42,
   "metadata": {},
   "outputs": [
    {
     "data": {
      "text/plain": [
       "350.0"
      ]
     },
     "execution_count": 42,
     "metadata": {},
     "output_type": "execute_result"
    }
   ],
   "source": [
    "round(345.876,-1)"
   ]
  },
  {
   "cell_type": "code",
   "execution_count": 43,
   "metadata": {},
   "outputs": [
    {
     "ename": "SyntaxError",
     "evalue": "invalid syntax (<ipython-input-43-3b83f59e3a9d>, line 1)",
     "output_type": "error",
     "traceback": [
      "\u001b[1;36m  File \u001b[1;32m\"<ipython-input-43-3b83f59e3a9d>\"\u001b[1;36m, line \u001b[1;32m1\u001b[0m\n\u001b[1;33m    4?\u001b[0m\n\u001b[1;37m     ^\u001b[0m\n\u001b[1;31mSyntaxError\u001b[0m\u001b[1;31m:\u001b[0m invalid syntax\n"
     ]
    }
   ],
   "source": [
    "4?"
   ]
  },
  {
   "cell_type": "code",
   "execution_count": 44,
   "metadata": {},
   "outputs": [
    {
     "data": {
      "text/plain": [
       "12"
      ]
     },
     "execution_count": 44,
     "metadata": {},
     "output_type": "execute_result"
    }
   ],
   "source": [
    "my_string = 'Hello world!'\n",
    "len(my_string)"
   ]
  },
  {
   "cell_type": "code",
   "execution_count": 45,
   "metadata": {},
   "outputs": [
    {
     "data": {
      "text/plain": [
       "'hello world!'"
      ]
     },
     "execution_count": 45,
     "metadata": {},
     "output_type": "execute_result"
    }
   ],
   "source": [
    "my_string.lower()"
   ]
  },
  {
   "cell_type": "code",
   "execution_count": 47,
   "metadata": {},
   "outputs": [
    {
     "data": {
      "text/plain": [
       "'pi is 3.141592653589793'"
      ]
     },
     "execution_count": 47,
     "metadata": {},
     "output_type": "execute_result"
    }
   ],
   "source": [
    "import math\n",
    "f'pi is {math.pi}'"
   ]
  },
  {
   "cell_type": "code",
   "execution_count": 48,
   "metadata": {},
   "outputs": [
    {
     "data": {
      "text/plain": [
       "-1.0"
      ]
     },
     "execution_count": 48,
     "metadata": {},
     "output_type": "execute_result"
    }
   ],
   "source": [
    "math.cos(math.pi)"
   ]
  },
  {
   "cell_type": "code",
   "execution_count": 49,
   "metadata": {},
   "outputs": [],
   "source": [
    "math.cos?"
   ]
  },
  {
   "cell_type": "code",
   "execution_count": 51,
   "metadata": {},
   "outputs": [
    {
     "data": {
      "text/plain": [
       "3.141592653589793"
      ]
     },
     "execution_count": 51,
     "metadata": {},
     "output_type": "execute_result"
    }
   ],
   "source": [
    "import math as m\n",
    "m.pi"
   ]
  },
  {
   "cell_type": "code",
   "execution_count": 52,
   "metadata": {},
   "outputs": [
    {
     "data": {
      "text/plain": [
       "3.141592653589793"
      ]
     },
     "execution_count": 52,
     "metadata": {},
     "output_type": "execute_result"
    }
   ],
   "source": [
    "from math import pi\n",
    "pi"
   ]
  },
  {
   "cell_type": "code",
   "execution_count": 53,
   "metadata": {},
   "outputs": [],
   "source": [
    "from math import cos"
   ]
  },
  {
   "cell_type": "code",
   "execution_count": 54,
   "metadata": {},
   "outputs": [
    {
     "data": {
      "text/plain": [
       "-1.0"
      ]
     },
     "execution_count": 54,
     "metadata": {},
     "output_type": "execute_result"
    }
   ],
   "source": [
    "cos(pi)"
   ]
  },
  {
   "cell_type": "code",
   "execution_count": 55,
   "metadata": {},
   "outputs": [],
   "source": [
    "from math import pi as p"
   ]
  },
  {
   "cell_type": "code",
   "execution_count": 56,
   "metadata": {},
   "outputs": [
    {
     "data": {
      "text/plain": [
       "-1.0"
      ]
     },
     "execution_count": 56,
     "metadata": {},
     "output_type": "execute_result"
    }
   ],
   "source": [
    "cos(p)"
   ]
  },
  {
   "cell_type": "code",
   "execution_count": 57,
   "metadata": {},
   "outputs": [],
   "source": [
    "import random"
   ]
  },
  {
   "cell_type": "code",
   "execution_count": 58,
   "metadata": {},
   "outputs": [],
   "source": [
    "random?"
   ]
  },
  {
   "cell_type": "code",
   "execution_count": 59,
   "metadata": {},
   "outputs": [
    {
     "data": {
      "text/html": [
       "<div>\n",
       "<style scoped>\n",
       "    .dataframe tbody tr th:only-of-type {\n",
       "        vertical-align: middle;\n",
       "    }\n",
       "\n",
       "    .dataframe tbody tr th {\n",
       "        vertical-align: top;\n",
       "    }\n",
       "\n",
       "    .dataframe thead th {\n",
       "        text-align: right;\n",
       "    }\n",
       "</style>\n",
       "<table border=\"1\" class=\"dataframe\">\n",
       "  <thead>\n",
       "    <tr style=\"text-align: right;\">\n",
       "      <th></th>\n",
       "      <th>country</th>\n",
       "      <th>gdpPercap_1952</th>\n",
       "      <th>gdpPercap_1957</th>\n",
       "      <th>gdpPercap_1962</th>\n",
       "      <th>gdpPercap_1967</th>\n",
       "      <th>gdpPercap_1972</th>\n",
       "      <th>gdpPercap_1977</th>\n",
       "      <th>gdpPercap_1982</th>\n",
       "      <th>gdpPercap_1987</th>\n",
       "      <th>gdpPercap_1992</th>\n",
       "      <th>gdpPercap_1997</th>\n",
       "      <th>gdpPercap_2002</th>\n",
       "      <th>gdpPercap_2007</th>\n",
       "    </tr>\n",
       "  </thead>\n",
       "  <tbody>\n",
       "    <tr>\n",
       "      <th>0</th>\n",
       "      <td>Australia</td>\n",
       "      <td>10039.59564</td>\n",
       "      <td>10949.64959</td>\n",
       "      <td>12217.22686</td>\n",
       "      <td>14526.12465</td>\n",
       "      <td>16788.62948</td>\n",
       "      <td>18334.19751</td>\n",
       "      <td>19477.00928</td>\n",
       "      <td>21888.88903</td>\n",
       "      <td>23424.76683</td>\n",
       "      <td>26997.93657</td>\n",
       "      <td>30687.75473</td>\n",
       "      <td>34435.36744</td>\n",
       "    </tr>\n",
       "    <tr>\n",
       "      <th>1</th>\n",
       "      <td>New Zealand</td>\n",
       "      <td>10556.57566</td>\n",
       "      <td>12247.39532</td>\n",
       "      <td>13175.67800</td>\n",
       "      <td>14463.91893</td>\n",
       "      <td>16046.03728</td>\n",
       "      <td>16233.71770</td>\n",
       "      <td>17632.41040</td>\n",
       "      <td>19007.19129</td>\n",
       "      <td>18363.32494</td>\n",
       "      <td>21050.41377</td>\n",
       "      <td>23189.80135</td>\n",
       "      <td>25185.00911</td>\n",
       "    </tr>\n",
       "  </tbody>\n",
       "</table>\n",
       "</div>"
      ],
      "text/plain": [
       "       country  gdpPercap_1952  gdpPercap_1957  gdpPercap_1962  \\\n",
       "0    Australia     10039.59564     10949.64959     12217.22686   \n",
       "1  New Zealand     10556.57566     12247.39532     13175.67800   \n",
       "\n",
       "   gdpPercap_1967  gdpPercap_1972  gdpPercap_1977  gdpPercap_1982  \\\n",
       "0     14526.12465     16788.62948     18334.19751     19477.00928   \n",
       "1     14463.91893     16046.03728     16233.71770     17632.41040   \n",
       "\n",
       "   gdpPercap_1987  gdpPercap_1992  gdpPercap_1997  gdpPercap_2002  \\\n",
       "0     21888.88903     23424.76683     26997.93657     30687.75473   \n",
       "1     19007.19129     18363.32494     21050.41377     23189.80135   \n",
       "\n",
       "   gdpPercap_2007  \n",
       "0     34435.36744  \n",
       "1     25185.00911  "
      ]
     },
     "execution_count": 59,
     "metadata": {},
     "output_type": "execute_result"
    }
   ],
   "source": [
    "import pandas as pd\n",
    "data = pd.read_csv('data/gapminder_gdp_oceania.csv')\n",
    "data"
   ]
  },
  {
   "cell_type": "code",
   "execution_count": 60,
   "metadata": {},
   "outputs": [
    {
     "data": {
      "text/plain": [
       "'C:\\\\Users\\\\matthew.wilson\\\\Documents\\\\python-novice-gapminder'"
      ]
     },
     "execution_count": 60,
     "metadata": {},
     "output_type": "execute_result"
    }
   ],
   "source": [
    "pwd"
   ]
  },
  {
   "cell_type": "code",
   "execution_count": 61,
   "metadata": {},
   "outputs": [
    {
     "name": "stderr",
     "output_type": "stream",
     "text": [
      "'pwd' is not recognized as an internal or external command,\n",
      "operable program or batch file.\n"
     ]
    }
   ],
   "source": [
    "!pwd"
   ]
  },
  {
   "cell_type": "code",
   "execution_count": 62,
   "metadata": {},
   "outputs": [
    {
     "name": "stderr",
     "output_type": "stream",
     "text": [
      "'ls' is not recognized as an internal or external command,\n",
      "operable program or batch file.\n"
     ]
    }
   ],
   "source": [
    "!ls"
   ]
  },
  {
   "cell_type": "code",
   "execution_count": 63,
   "metadata": {},
   "outputs": [
    {
     "name": "stdout",
     "output_type": "stream",
     "text": [
      " Volume in drive C is Windows\n",
      " Volume Serial Number is D4DB-C49A\n",
      "\n",
      " Directory of C:\\Users\\matthew.wilson\\Documents\\python-novice-gapminder\n",
      "\n",
      "02/24/2021  03:24 PM    <DIR>          .\n",
      "02/24/2021  03:24 PM    <DIR>          ..\n",
      "02/24/2021  01:37 PM                21 .gitignore\n",
      "02/24/2021  02:16 PM    <DIR>          .ipynb_checkpoints\n",
      "02/24/2021  01:37 PM    <DIR>          data\n",
      "02/24/2021  01:58 PM             2,712 demo.ipynb\n",
      "02/24/2021  01:37 PM                73 README.md\n",
      "02/24/2021  03:24 PM            21,679 training2.ipynb\n",
      "               4 File(s)         24,485 bytes\n",
      "               4 Dir(s)  38,215,454,720 bytes free\n"
     ]
    }
   ],
   "source": [
    "ls"
   ]
  },
  {
   "cell_type": "code",
   "execution_count": 64,
   "metadata": {},
   "outputs": [
    {
     "data": {
      "text/plain": [
       "pandas.core.frame.DataFrame"
      ]
     },
     "execution_count": 64,
     "metadata": {},
     "output_type": "execute_result"
    }
   ],
   "source": [
    "type(data)"
   ]
  },
  {
   "cell_type": "code",
   "execution_count": 65,
   "metadata": {},
   "outputs": [
    {
     "data": {
      "text/plain": [
       "country            object\n",
       "gdpPercap_1952    float64\n",
       "gdpPercap_1957    float64\n",
       "gdpPercap_1962    float64\n",
       "gdpPercap_1967    float64\n",
       "gdpPercap_1972    float64\n",
       "gdpPercap_1977    float64\n",
       "gdpPercap_1982    float64\n",
       "gdpPercap_1987    float64\n",
       "gdpPercap_1992    float64\n",
       "gdpPercap_1997    float64\n",
       "gdpPercap_2002    float64\n",
       "gdpPercap_2007    float64\n",
       "dtype: object"
      ]
     },
     "execution_count": 65,
     "metadata": {},
     "output_type": "execute_result"
    }
   ],
   "source": [
    "data.dtypes"
   ]
  },
  {
   "cell_type": "code",
   "execution_count": 66,
   "metadata": {},
   "outputs": [
    {
     "data": {
      "text/plain": [
       "Index(['country', 'gdpPercap_1952', 'gdpPercap_1957', 'gdpPercap_1962',\n",
       "       'gdpPercap_1967', 'gdpPercap_1972', 'gdpPercap_1977', 'gdpPercap_1982',\n",
       "       'gdpPercap_1987', 'gdpPercap_1992', 'gdpPercap_1997', 'gdpPercap_2002',\n",
       "       'gdpPercap_2007'],\n",
       "      dtype='object')"
      ]
     },
     "execution_count": 66,
     "metadata": {},
     "output_type": "execute_result"
    }
   ],
   "source": [
    "data.columns"
   ]
  },
  {
   "cell_type": "code",
   "execution_count": 67,
   "metadata": {},
   "outputs": [
    {
     "data": {
      "text/plain": [
       "RangeIndex(start=0, stop=2, step=1)"
      ]
     },
     "execution_count": 67,
     "metadata": {},
     "output_type": "execute_result"
    }
   ],
   "source": [
    "data.index"
   ]
  },
  {
   "cell_type": "code",
   "execution_count": 68,
   "metadata": {},
   "outputs": [],
   "source": [
    "data = pd.read_csv('data/gapminder_gdp_oceania.csv', index_col='country')"
   ]
  },
  {
   "cell_type": "code",
   "execution_count": 69,
   "metadata": {},
   "outputs": [
    {
     "data": {
      "text/html": [
       "<div>\n",
       "<style scoped>\n",
       "    .dataframe tbody tr th:only-of-type {\n",
       "        vertical-align: middle;\n",
       "    }\n",
       "\n",
       "    .dataframe tbody tr th {\n",
       "        vertical-align: top;\n",
       "    }\n",
       "\n",
       "    .dataframe thead th {\n",
       "        text-align: right;\n",
       "    }\n",
       "</style>\n",
       "<table border=\"1\" class=\"dataframe\">\n",
       "  <thead>\n",
       "    <tr style=\"text-align: right;\">\n",
       "      <th></th>\n",
       "      <th>gdpPercap_1952</th>\n",
       "      <th>gdpPercap_1957</th>\n",
       "      <th>gdpPercap_1962</th>\n",
       "      <th>gdpPercap_1967</th>\n",
       "      <th>gdpPercap_1972</th>\n",
       "      <th>gdpPercap_1977</th>\n",
       "      <th>gdpPercap_1982</th>\n",
       "      <th>gdpPercap_1987</th>\n",
       "      <th>gdpPercap_1992</th>\n",
       "      <th>gdpPercap_1997</th>\n",
       "      <th>gdpPercap_2002</th>\n",
       "      <th>gdpPercap_2007</th>\n",
       "    </tr>\n",
       "    <tr>\n",
       "      <th>country</th>\n",
       "      <th></th>\n",
       "      <th></th>\n",
       "      <th></th>\n",
       "      <th></th>\n",
       "      <th></th>\n",
       "      <th></th>\n",
       "      <th></th>\n",
       "      <th></th>\n",
       "      <th></th>\n",
       "      <th></th>\n",
       "      <th></th>\n",
       "      <th></th>\n",
       "    </tr>\n",
       "  </thead>\n",
       "  <tbody>\n",
       "    <tr>\n",
       "      <th>Australia</th>\n",
       "      <td>10039.59564</td>\n",
       "      <td>10949.64959</td>\n",
       "      <td>12217.22686</td>\n",
       "      <td>14526.12465</td>\n",
       "      <td>16788.62948</td>\n",
       "      <td>18334.19751</td>\n",
       "      <td>19477.00928</td>\n",
       "      <td>21888.88903</td>\n",
       "      <td>23424.76683</td>\n",
       "      <td>26997.93657</td>\n",
       "      <td>30687.75473</td>\n",
       "      <td>34435.36744</td>\n",
       "    </tr>\n",
       "    <tr>\n",
       "      <th>New Zealand</th>\n",
       "      <td>10556.57566</td>\n",
       "      <td>12247.39532</td>\n",
       "      <td>13175.67800</td>\n",
       "      <td>14463.91893</td>\n",
       "      <td>16046.03728</td>\n",
       "      <td>16233.71770</td>\n",
       "      <td>17632.41040</td>\n",
       "      <td>19007.19129</td>\n",
       "      <td>18363.32494</td>\n",
       "      <td>21050.41377</td>\n",
       "      <td>23189.80135</td>\n",
       "      <td>25185.00911</td>\n",
       "    </tr>\n",
       "  </tbody>\n",
       "</table>\n",
       "</div>"
      ],
      "text/plain": [
       "             gdpPercap_1952  gdpPercap_1957  gdpPercap_1962  gdpPercap_1967  \\\n",
       "country                                                                       \n",
       "Australia       10039.59564     10949.64959     12217.22686     14526.12465   \n",
       "New Zealand     10556.57566     12247.39532     13175.67800     14463.91893   \n",
       "\n",
       "             gdpPercap_1972  gdpPercap_1977  gdpPercap_1982  gdpPercap_1987  \\\n",
       "country                                                                       \n",
       "Australia       16788.62948     18334.19751     19477.00928     21888.88903   \n",
       "New Zealand     16046.03728     16233.71770     17632.41040     19007.19129   \n",
       "\n",
       "             gdpPercap_1992  gdpPercap_1997  gdpPercap_2002  gdpPercap_2007  \n",
       "country                                                                      \n",
       "Australia       23424.76683     26997.93657     30687.75473     34435.36744  \n",
       "New Zealand     18363.32494     21050.41377     23189.80135     25185.00911  "
      ]
     },
     "execution_count": 69,
     "metadata": {},
     "output_type": "execute_result"
    }
   ],
   "source": [
    "data"
   ]
  },
  {
   "cell_type": "code",
   "execution_count": 70,
   "metadata": {},
   "outputs": [
    {
     "data": {
      "text/plain": [
       "Index(['Australia', 'New Zealand'], dtype='object', name='country')"
      ]
     },
     "execution_count": 70,
     "metadata": {},
     "output_type": "execute_result"
    }
   ],
   "source": [
    "data.index"
   ]
  },
  {
   "cell_type": "code",
   "execution_count": 71,
   "metadata": {},
   "outputs": [],
   "source": [
    "import pandas as pd"
   ]
  },
  {
   "cell_type": "code",
   "execution_count": 72,
   "metadata": {},
   "outputs": [
    {
     "ename": "AttributeError",
     "evalue": "module 'pandas' has no attribute 'NaN'",
     "output_type": "error",
     "traceback": [
      "\u001b[1;31m---------------------------------------------------------------------------\u001b[0m",
      "\u001b[1;31mAttributeError\u001b[0m                            Traceback (most recent call last)",
      "\u001b[1;32m<ipython-input-72-2105953a537c>\u001b[0m in \u001b[0;36m<module>\u001b[1;34m\u001b[0m\n\u001b[1;32m----> 1\u001b[1;33m \u001b[0mpd\u001b[0m\u001b[1;33m.\u001b[0m\u001b[0mNaN\u001b[0m\u001b[1;33m\u001b[0m\u001b[1;33m\u001b[0m\u001b[0m\n\u001b[0m",
      "\u001b[1;31mAttributeError\u001b[0m: module 'pandas' has no attribute 'NaN'"
     ]
    }
   ],
   "source": [
    "pd.NaN"
   ]
  },
  {
   "cell_type": "code",
   "execution_count": 73,
   "metadata": {},
   "outputs": [
    {
     "data": {
      "text/html": [
       "<div>\n",
       "<style scoped>\n",
       "    .dataframe tbody tr th:only-of-type {\n",
       "        vertical-align: middle;\n",
       "    }\n",
       "\n",
       "    .dataframe tbody tr th {\n",
       "        vertical-align: top;\n",
       "    }\n",
       "\n",
       "    .dataframe thead th {\n",
       "        text-align: right;\n",
       "    }\n",
       "</style>\n",
       "<table border=\"1\" class=\"dataframe\">\n",
       "  <thead>\n",
       "    <tr style=\"text-align: right;\">\n",
       "      <th></th>\n",
       "      <th>gdpPercap_1952</th>\n",
       "      <th>gdpPercap_1957</th>\n",
       "      <th>gdpPercap_1962</th>\n",
       "      <th>gdpPercap_1967</th>\n",
       "      <th>gdpPercap_1972</th>\n",
       "      <th>gdpPercap_1977</th>\n",
       "      <th>gdpPercap_1982</th>\n",
       "      <th>gdpPercap_1987</th>\n",
       "      <th>gdpPercap_1992</th>\n",
       "      <th>gdpPercap_1997</th>\n",
       "      <th>gdpPercap_2002</th>\n",
       "      <th>gdpPercap_2007</th>\n",
       "    </tr>\n",
       "  </thead>\n",
       "  <tbody>\n",
       "    <tr>\n",
       "      <th>count</th>\n",
       "      <td>2.000000</td>\n",
       "      <td>2.000000</td>\n",
       "      <td>2.000000</td>\n",
       "      <td>2.000000</td>\n",
       "      <td>2.00000</td>\n",
       "      <td>2.000000</td>\n",
       "      <td>2.000000</td>\n",
       "      <td>2.000000</td>\n",
       "      <td>2.000000</td>\n",
       "      <td>2.000000</td>\n",
       "      <td>2.000000</td>\n",
       "      <td>2.000000</td>\n",
       "    </tr>\n",
       "    <tr>\n",
       "      <th>mean</th>\n",
       "      <td>10298.085650</td>\n",
       "      <td>11598.522455</td>\n",
       "      <td>12696.452430</td>\n",
       "      <td>14495.021790</td>\n",
       "      <td>16417.33338</td>\n",
       "      <td>17283.957605</td>\n",
       "      <td>18554.709840</td>\n",
       "      <td>20448.040160</td>\n",
       "      <td>20894.045885</td>\n",
       "      <td>24024.175170</td>\n",
       "      <td>26938.778040</td>\n",
       "      <td>29810.188275</td>\n",
       "    </tr>\n",
       "    <tr>\n",
       "      <th>std</th>\n",
       "      <td>365.560078</td>\n",
       "      <td>917.644806</td>\n",
       "      <td>677.727301</td>\n",
       "      <td>43.986086</td>\n",
       "      <td>525.09198</td>\n",
       "      <td>1485.263517</td>\n",
       "      <td>1304.328377</td>\n",
       "      <td>2037.668013</td>\n",
       "      <td>3578.979883</td>\n",
       "      <td>4205.533703</td>\n",
       "      <td>5301.853680</td>\n",
       "      <td>6540.991104</td>\n",
       "    </tr>\n",
       "    <tr>\n",
       "      <th>min</th>\n",
       "      <td>10039.595640</td>\n",
       "      <td>10949.649590</td>\n",
       "      <td>12217.226860</td>\n",
       "      <td>14463.918930</td>\n",
       "      <td>16046.03728</td>\n",
       "      <td>16233.717700</td>\n",
       "      <td>17632.410400</td>\n",
       "      <td>19007.191290</td>\n",
       "      <td>18363.324940</td>\n",
       "      <td>21050.413770</td>\n",
       "      <td>23189.801350</td>\n",
       "      <td>25185.009110</td>\n",
       "    </tr>\n",
       "    <tr>\n",
       "      <th>25%</th>\n",
       "      <td>10168.840645</td>\n",
       "      <td>11274.086022</td>\n",
       "      <td>12456.839645</td>\n",
       "      <td>14479.470360</td>\n",
       "      <td>16231.68533</td>\n",
       "      <td>16758.837652</td>\n",
       "      <td>18093.560120</td>\n",
       "      <td>19727.615725</td>\n",
       "      <td>19628.685413</td>\n",
       "      <td>22537.294470</td>\n",
       "      <td>25064.289695</td>\n",
       "      <td>27497.598692</td>\n",
       "    </tr>\n",
       "    <tr>\n",
       "      <th>50%</th>\n",
       "      <td>10298.085650</td>\n",
       "      <td>11598.522455</td>\n",
       "      <td>12696.452430</td>\n",
       "      <td>14495.021790</td>\n",
       "      <td>16417.33338</td>\n",
       "      <td>17283.957605</td>\n",
       "      <td>18554.709840</td>\n",
       "      <td>20448.040160</td>\n",
       "      <td>20894.045885</td>\n",
       "      <td>24024.175170</td>\n",
       "      <td>26938.778040</td>\n",
       "      <td>29810.188275</td>\n",
       "    </tr>\n",
       "    <tr>\n",
       "      <th>75%</th>\n",
       "      <td>10427.330655</td>\n",
       "      <td>11922.958888</td>\n",
       "      <td>12936.065215</td>\n",
       "      <td>14510.573220</td>\n",
       "      <td>16602.98143</td>\n",
       "      <td>17809.077557</td>\n",
       "      <td>19015.859560</td>\n",
       "      <td>21168.464595</td>\n",
       "      <td>22159.406358</td>\n",
       "      <td>25511.055870</td>\n",
       "      <td>28813.266385</td>\n",
       "      <td>32122.777857</td>\n",
       "    </tr>\n",
       "    <tr>\n",
       "      <th>max</th>\n",
       "      <td>10556.575660</td>\n",
       "      <td>12247.395320</td>\n",
       "      <td>13175.678000</td>\n",
       "      <td>14526.124650</td>\n",
       "      <td>16788.62948</td>\n",
       "      <td>18334.197510</td>\n",
       "      <td>19477.009280</td>\n",
       "      <td>21888.889030</td>\n",
       "      <td>23424.766830</td>\n",
       "      <td>26997.936570</td>\n",
       "      <td>30687.754730</td>\n",
       "      <td>34435.367440</td>\n",
       "    </tr>\n",
       "  </tbody>\n",
       "</table>\n",
       "</div>"
      ],
      "text/plain": [
       "       gdpPercap_1952  gdpPercap_1957  gdpPercap_1962  gdpPercap_1967  \\\n",
       "count        2.000000        2.000000        2.000000        2.000000   \n",
       "mean     10298.085650    11598.522455    12696.452430    14495.021790   \n",
       "std        365.560078      917.644806      677.727301       43.986086   \n",
       "min      10039.595640    10949.649590    12217.226860    14463.918930   \n",
       "25%      10168.840645    11274.086022    12456.839645    14479.470360   \n",
       "50%      10298.085650    11598.522455    12696.452430    14495.021790   \n",
       "75%      10427.330655    11922.958888    12936.065215    14510.573220   \n",
       "max      10556.575660    12247.395320    13175.678000    14526.124650   \n",
       "\n",
       "       gdpPercap_1972  gdpPercap_1977  gdpPercap_1982  gdpPercap_1987  \\\n",
       "count         2.00000        2.000000        2.000000        2.000000   \n",
       "mean      16417.33338    17283.957605    18554.709840    20448.040160   \n",
       "std         525.09198     1485.263517     1304.328377     2037.668013   \n",
       "min       16046.03728    16233.717700    17632.410400    19007.191290   \n",
       "25%       16231.68533    16758.837652    18093.560120    19727.615725   \n",
       "50%       16417.33338    17283.957605    18554.709840    20448.040160   \n",
       "75%       16602.98143    17809.077557    19015.859560    21168.464595   \n",
       "max       16788.62948    18334.197510    19477.009280    21888.889030   \n",
       "\n",
       "       gdpPercap_1992  gdpPercap_1997  gdpPercap_2002  gdpPercap_2007  \n",
       "count        2.000000        2.000000        2.000000        2.000000  \n",
       "mean     20894.045885    24024.175170    26938.778040    29810.188275  \n",
       "std       3578.979883     4205.533703     5301.853680     6540.991104  \n",
       "min      18363.324940    21050.413770    23189.801350    25185.009110  \n",
       "25%      19628.685413    22537.294470    25064.289695    27497.598692  \n",
       "50%      20894.045885    24024.175170    26938.778040    29810.188275  \n",
       "75%      22159.406358    25511.055870    28813.266385    32122.777857  \n",
       "max      23424.766830    26997.936570    30687.754730    34435.367440  "
      ]
     },
     "execution_count": 73,
     "metadata": {},
     "output_type": "execute_result"
    }
   ],
   "source": [
    "data.describe()"
   ]
  },
  {
   "cell_type": "code",
   "execution_count": 74,
   "metadata": {},
   "outputs": [
    {
     "name": "stdout",
     "output_type": "stream",
     "text": [
      "<class 'pandas.core.frame.DataFrame'>\n",
      "Index: 2 entries, Australia to New Zealand\n",
      "Data columns (total 12 columns):\n",
      "gdpPercap_1952    2 non-null float64\n",
      "gdpPercap_1957    2 non-null float64\n",
      "gdpPercap_1962    2 non-null float64\n",
      "gdpPercap_1967    2 non-null float64\n",
      "gdpPercap_1972    2 non-null float64\n",
      "gdpPercap_1977    2 non-null float64\n",
      "gdpPercap_1982    2 non-null float64\n",
      "gdpPercap_1987    2 non-null float64\n",
      "gdpPercap_1992    2 non-null float64\n",
      "gdpPercap_1997    2 non-null float64\n",
      "gdpPercap_2002    2 non-null float64\n",
      "gdpPercap_2007    2 non-null float64\n",
      "dtypes: float64(12)\n",
      "memory usage: 208.0+ bytes\n"
     ]
    }
   ],
   "source": [
    "data.info()"
   ]
  },
  {
   "cell_type": "code",
   "execution_count": 75,
   "metadata": {},
   "outputs": [
    {
     "data": {
      "text/html": [
       "<div>\n",
       "<style scoped>\n",
       "    .dataframe tbody tr th:only-of-type {\n",
       "        vertical-align: middle;\n",
       "    }\n",
       "\n",
       "    .dataframe tbody tr th {\n",
       "        vertical-align: top;\n",
       "    }\n",
       "\n",
       "    .dataframe thead th {\n",
       "        text-align: right;\n",
       "    }\n",
       "</style>\n",
       "<table border=\"1\" class=\"dataframe\">\n",
       "  <thead>\n",
       "    <tr style=\"text-align: right;\">\n",
       "      <th>country</th>\n",
       "      <th>Australia</th>\n",
       "      <th>New Zealand</th>\n",
       "    </tr>\n",
       "  </thead>\n",
       "  <tbody>\n",
       "    <tr>\n",
       "      <th>gdpPercap_1952</th>\n",
       "      <td>10039.59564</td>\n",
       "      <td>10556.57566</td>\n",
       "    </tr>\n",
       "    <tr>\n",
       "      <th>gdpPercap_1957</th>\n",
       "      <td>10949.64959</td>\n",
       "      <td>12247.39532</td>\n",
       "    </tr>\n",
       "    <tr>\n",
       "      <th>gdpPercap_1962</th>\n",
       "      <td>12217.22686</td>\n",
       "      <td>13175.67800</td>\n",
       "    </tr>\n",
       "    <tr>\n",
       "      <th>gdpPercap_1967</th>\n",
       "      <td>14526.12465</td>\n",
       "      <td>14463.91893</td>\n",
       "    </tr>\n",
       "    <tr>\n",
       "      <th>gdpPercap_1972</th>\n",
       "      <td>16788.62948</td>\n",
       "      <td>16046.03728</td>\n",
       "    </tr>\n",
       "    <tr>\n",
       "      <th>gdpPercap_1977</th>\n",
       "      <td>18334.19751</td>\n",
       "      <td>16233.71770</td>\n",
       "    </tr>\n",
       "    <tr>\n",
       "      <th>gdpPercap_1982</th>\n",
       "      <td>19477.00928</td>\n",
       "      <td>17632.41040</td>\n",
       "    </tr>\n",
       "    <tr>\n",
       "      <th>gdpPercap_1987</th>\n",
       "      <td>21888.88903</td>\n",
       "      <td>19007.19129</td>\n",
       "    </tr>\n",
       "    <tr>\n",
       "      <th>gdpPercap_1992</th>\n",
       "      <td>23424.76683</td>\n",
       "      <td>18363.32494</td>\n",
       "    </tr>\n",
       "    <tr>\n",
       "      <th>gdpPercap_1997</th>\n",
       "      <td>26997.93657</td>\n",
       "      <td>21050.41377</td>\n",
       "    </tr>\n",
       "    <tr>\n",
       "      <th>gdpPercap_2002</th>\n",
       "      <td>30687.75473</td>\n",
       "      <td>23189.80135</td>\n",
       "    </tr>\n",
       "    <tr>\n",
       "      <th>gdpPercap_2007</th>\n",
       "      <td>34435.36744</td>\n",
       "      <td>25185.00911</td>\n",
       "    </tr>\n",
       "  </tbody>\n",
       "</table>\n",
       "</div>"
      ],
      "text/plain": [
       "country           Australia  New Zealand\n",
       "gdpPercap_1952  10039.59564  10556.57566\n",
       "gdpPercap_1957  10949.64959  12247.39532\n",
       "gdpPercap_1962  12217.22686  13175.67800\n",
       "gdpPercap_1967  14526.12465  14463.91893\n",
       "gdpPercap_1972  16788.62948  16046.03728\n",
       "gdpPercap_1977  18334.19751  16233.71770\n",
       "gdpPercap_1982  19477.00928  17632.41040\n",
       "gdpPercap_1987  21888.88903  19007.19129\n",
       "gdpPercap_1992  23424.76683  18363.32494\n",
       "gdpPercap_1997  26997.93657  21050.41377\n",
       "gdpPercap_2002  30687.75473  23189.80135\n",
       "gdpPercap_2007  34435.36744  25185.00911"
      ]
     },
     "execution_count": 75,
     "metadata": {},
     "output_type": "execute_result"
    }
   ],
   "source": [
    "data.T"
   ]
  },
  {
   "cell_type": "code",
   "execution_count": 76,
   "metadata": {},
   "outputs": [
    {
     "name": "stdout",
     "output_type": "stream",
     "text": [
      "<class 'pandas.core.frame.DataFrame'>\n",
      "Index: 30 entries, Albania to United Kingdom\n",
      "Data columns (total 12 columns):\n",
      "gdpPercap_1952    30 non-null float64\n",
      "gdpPercap_1957    30 non-null float64\n",
      "gdpPercap_1962    30 non-null float64\n",
      "gdpPercap_1967    30 non-null float64\n",
      "gdpPercap_1972    30 non-null float64\n",
      "gdpPercap_1977    30 non-null float64\n",
      "gdpPercap_1982    30 non-null float64\n",
      "gdpPercap_1987    30 non-null float64\n",
      "gdpPercap_1992    30 non-null float64\n",
      "gdpPercap_1997    30 non-null float64\n",
      "gdpPercap_2002    30 non-null float64\n",
      "gdpPercap_2007    30 non-null float64\n",
      "dtypes: float64(12)\n",
      "memory usage: 3.0+ KB\n"
     ]
    }
   ],
   "source": [
    "data = pd.read_csv('data/gapminder_gdp_europe.csv', index_col='country')\n",
    "df = data.copy()\n",
    "df.info()"
   ]
  },
  {
   "cell_type": "code",
   "execution_count": 77,
   "metadata": {},
   "outputs": [
    {
     "data": {
      "text/plain": [
       "country\n",
       "Albania                    5937.029526\n",
       "Austria                   36126.492700\n",
       "Belgium                   33692.605080\n",
       "Bosnia and Herzegovina     7446.298803\n",
       "Bulgaria                  10680.792820\n",
       "Croatia                   14619.222720\n",
       "Czech Republic            22833.308510\n",
       "Denmark                   35278.418740\n",
       "Finland                   33207.084400\n",
       "France                    30470.016700\n",
       "Germany                   32170.374420\n",
       "Greece                    27538.411880\n",
       "Hungary                   18008.944440\n",
       "Iceland                   36180.789190\n",
       "Ireland                   40675.996350\n",
       "Italy                     28569.719700\n",
       "Montenegro                 9253.896111\n",
       "Netherlands               36797.933320\n",
       "Norway                    49357.190170\n",
       "Poland                    15389.924680\n",
       "Portugal                  20509.647770\n",
       "Romania                   10808.475610\n",
       "Serbia                     9786.534714\n",
       "Slovak Republic           18678.314350\n",
       "Slovenia                  25768.257590\n",
       "Spain                     28821.063700\n",
       "Sweden                    33859.748350\n",
       "Switzerland               37506.419070\n",
       "Turkey                     8458.276384\n",
       "United Kingdom            33203.261280\n",
       "Name: gdpPercap_2007, dtype: float64"
      ]
     },
     "execution_count": 77,
     "metadata": {},
     "output_type": "execute_result"
    }
   ],
   "source": [
    "df['gdpPercap_2007']"
   ]
  },
  {
   "cell_type": "code",
   "execution_count": 78,
   "metadata": {},
   "outputs": [
    {
     "data": {
      "text/plain": [
       "1601.056136"
      ]
     },
     "execution_count": 78,
     "metadata": {},
     "output_type": "execute_result"
    }
   ],
   "source": [
    "df.loc['Albania', 'gdpPercap_1952']"
   ]
  },
  {
   "cell_type": "code",
   "execution_count": 79,
   "metadata": {},
   "outputs": [
    {
     "data": {
      "text/plain": [
       "country\n",
       "Albania    1601.056136\n",
       "Austria    6137.076492\n",
       "Belgium    8343.105127\n",
       "Name: gdpPercap_1952, dtype: float64"
      ]
     },
     "execution_count": 79,
     "metadata": {},
     "output_type": "execute_result"
    }
   ],
   "source": [
    "df.loc['Albania':'Belgium', 'gdpPercap_1952']"
   ]
  },
  {
   "cell_type": "code",
   "execution_count": 80,
   "metadata": {},
   "outputs": [
    {
     "data": {
      "text/plain": [
       "country\n",
       "Albania    1601.056136\n",
       "Austria    6137.076492\n",
       "Belgium    8343.105127\n",
       "Name: gdpPercap_1952, dtype: float64"
      ]
     },
     "execution_count": 80,
     "metadata": {},
     "output_type": "execute_result"
    }
   ],
   "source": [
    "df.iloc[0:3, 0]"
   ]
  },
  {
   "cell_type": "code",
   "execution_count": 81,
   "metadata": {},
   "outputs": [],
   "source": [
    "df.iloc?"
   ]
  },
  {
   "cell_type": "code",
   "execution_count": 82,
   "metadata": {},
   "outputs": [],
   "source": [
    "df = df.loc['Italy':'Poland', 'gdpPercap_1962':'gdpPercap_1972']"
   ]
  },
  {
   "cell_type": "code",
   "execution_count": 83,
   "metadata": {},
   "outputs": [
    {
     "data": {
      "text/html": [
       "<div>\n",
       "<style scoped>\n",
       "    .dataframe tbody tr th:only-of-type {\n",
       "        vertical-align: middle;\n",
       "    }\n",
       "\n",
       "    .dataframe tbody tr th {\n",
       "        vertical-align: top;\n",
       "    }\n",
       "\n",
       "    .dataframe thead th {\n",
       "        text-align: right;\n",
       "    }\n",
       "</style>\n",
       "<table border=\"1\" class=\"dataframe\">\n",
       "  <thead>\n",
       "    <tr style=\"text-align: right;\">\n",
       "      <th></th>\n",
       "      <th>gdpPercap_1962</th>\n",
       "      <th>gdpPercap_1967</th>\n",
       "      <th>gdpPercap_1972</th>\n",
       "    </tr>\n",
       "    <tr>\n",
       "      <th>country</th>\n",
       "      <th></th>\n",
       "      <th></th>\n",
       "      <th></th>\n",
       "    </tr>\n",
       "  </thead>\n",
       "  <tbody>\n",
       "    <tr>\n",
       "      <th>Italy</th>\n",
       "      <td>8243.582340</td>\n",
       "      <td>10022.401310</td>\n",
       "      <td>12269.273780</td>\n",
       "    </tr>\n",
       "    <tr>\n",
       "      <th>Montenegro</th>\n",
       "      <td>4649.593785</td>\n",
       "      <td>5907.850937</td>\n",
       "      <td>7778.414017</td>\n",
       "    </tr>\n",
       "    <tr>\n",
       "      <th>Netherlands</th>\n",
       "      <td>12790.849560</td>\n",
       "      <td>15363.251360</td>\n",
       "      <td>18794.745670</td>\n",
       "    </tr>\n",
       "    <tr>\n",
       "      <th>Norway</th>\n",
       "      <td>13450.401510</td>\n",
       "      <td>16361.876470</td>\n",
       "      <td>18965.055510</td>\n",
       "    </tr>\n",
       "    <tr>\n",
       "      <th>Poland</th>\n",
       "      <td>5338.752143</td>\n",
       "      <td>6557.152776</td>\n",
       "      <td>8006.506993</td>\n",
       "    </tr>\n",
       "  </tbody>\n",
       "</table>\n",
       "</div>"
      ],
      "text/plain": [
       "             gdpPercap_1962  gdpPercap_1967  gdpPercap_1972\n",
       "country                                                    \n",
       "Italy           8243.582340    10022.401310    12269.273780\n",
       "Montenegro      4649.593785     5907.850937     7778.414017\n",
       "Netherlands    12790.849560    15363.251360    18794.745670\n",
       "Norway         13450.401510    16361.876470    18965.055510\n",
       "Poland          5338.752143     6557.152776     8006.506993"
      ]
     },
     "execution_count": 83,
     "metadata": {},
     "output_type": "execute_result"
    }
   ],
   "source": [
    "df"
   ]
  },
  {
   "cell_type": "code",
   "execution_count": 84,
   "metadata": {},
   "outputs": [
    {
     "data": {
      "text/html": [
       "<div>\n",
       "<style scoped>\n",
       "    .dataframe tbody tr th:only-of-type {\n",
       "        vertical-align: middle;\n",
       "    }\n",
       "\n",
       "    .dataframe tbody tr th {\n",
       "        vertical-align: top;\n",
       "    }\n",
       "\n",
       "    .dataframe thead th {\n",
       "        text-align: right;\n",
       "    }\n",
       "</style>\n",
       "<table border=\"1\" class=\"dataframe\">\n",
       "  <thead>\n",
       "    <tr style=\"text-align: right;\">\n",
       "      <th></th>\n",
       "      <th>gdpPercap_1962</th>\n",
       "      <th>gdpPercap_1967</th>\n",
       "      <th>gdpPercap_1972</th>\n",
       "    </tr>\n",
       "    <tr>\n",
       "      <th>country</th>\n",
       "      <th></th>\n",
       "      <th></th>\n",
       "      <th></th>\n",
       "    </tr>\n",
       "  </thead>\n",
       "  <tbody>\n",
       "    <tr>\n",
       "      <th>Italy</th>\n",
       "      <td>False</td>\n",
       "      <td>True</td>\n",
       "      <td>True</td>\n",
       "    </tr>\n",
       "    <tr>\n",
       "      <th>Montenegro</th>\n",
       "      <td>False</td>\n",
       "      <td>False</td>\n",
       "      <td>False</td>\n",
       "    </tr>\n",
       "    <tr>\n",
       "      <th>Netherlands</th>\n",
       "      <td>True</td>\n",
       "      <td>True</td>\n",
       "      <td>True</td>\n",
       "    </tr>\n",
       "    <tr>\n",
       "      <th>Norway</th>\n",
       "      <td>True</td>\n",
       "      <td>True</td>\n",
       "      <td>True</td>\n",
       "    </tr>\n",
       "    <tr>\n",
       "      <th>Poland</th>\n",
       "      <td>False</td>\n",
       "      <td>False</td>\n",
       "      <td>False</td>\n",
       "    </tr>\n",
       "  </tbody>\n",
       "</table>\n",
       "</div>"
      ],
      "text/plain": [
       "             gdpPercap_1962  gdpPercap_1967  gdpPercap_1972\n",
       "country                                                    \n",
       "Italy                 False            True            True\n",
       "Montenegro            False           False           False\n",
       "Netherlands            True            True            True\n",
       "Norway                 True            True            True\n",
       "Poland                False           False           False"
      ]
     },
     "execution_count": 84,
     "metadata": {},
     "output_type": "execute_result"
    }
   ],
   "source": [
    "df > 10000"
   ]
  },
  {
   "cell_type": "code",
   "execution_count": 85,
   "metadata": {},
   "outputs": [],
   "source": [
    "mask = df > 10000"
   ]
  },
  {
   "cell_type": "code",
   "execution_count": 86,
   "metadata": {},
   "outputs": [
    {
     "data": {
      "text/html": [
       "<div>\n",
       "<style scoped>\n",
       "    .dataframe tbody tr th:only-of-type {\n",
       "        vertical-align: middle;\n",
       "    }\n",
       "\n",
       "    .dataframe tbody tr th {\n",
       "        vertical-align: top;\n",
       "    }\n",
       "\n",
       "    .dataframe thead th {\n",
       "        text-align: right;\n",
       "    }\n",
       "</style>\n",
       "<table border=\"1\" class=\"dataframe\">\n",
       "  <thead>\n",
       "    <tr style=\"text-align: right;\">\n",
       "      <th></th>\n",
       "      <th>gdpPercap_1962</th>\n",
       "      <th>gdpPercap_1967</th>\n",
       "      <th>gdpPercap_1972</th>\n",
       "    </tr>\n",
       "    <tr>\n",
       "      <th>country</th>\n",
       "      <th></th>\n",
       "      <th></th>\n",
       "      <th></th>\n",
       "    </tr>\n",
       "  </thead>\n",
       "  <tbody>\n",
       "    <tr>\n",
       "      <th>Italy</th>\n",
       "      <td>NaN</td>\n",
       "      <td>10022.40131</td>\n",
       "      <td>12269.27378</td>\n",
       "    </tr>\n",
       "    <tr>\n",
       "      <th>Montenegro</th>\n",
       "      <td>NaN</td>\n",
       "      <td>NaN</td>\n",
       "      <td>NaN</td>\n",
       "    </tr>\n",
       "    <tr>\n",
       "      <th>Netherlands</th>\n",
       "      <td>12790.84956</td>\n",
       "      <td>15363.25136</td>\n",
       "      <td>18794.74567</td>\n",
       "    </tr>\n",
       "    <tr>\n",
       "      <th>Norway</th>\n",
       "      <td>13450.40151</td>\n",
       "      <td>16361.87647</td>\n",
       "      <td>18965.05551</td>\n",
       "    </tr>\n",
       "    <tr>\n",
       "      <th>Poland</th>\n",
       "      <td>NaN</td>\n",
       "      <td>NaN</td>\n",
       "      <td>NaN</td>\n",
       "    </tr>\n",
       "  </tbody>\n",
       "</table>\n",
       "</div>"
      ],
      "text/plain": [
       "             gdpPercap_1962  gdpPercap_1967  gdpPercap_1972\n",
       "country                                                    \n",
       "Italy                   NaN     10022.40131     12269.27378\n",
       "Montenegro              NaN             NaN             NaN\n",
       "Netherlands     12790.84956     15363.25136     18794.74567\n",
       "Norway          13450.40151     16361.87647     18965.05551\n",
       "Poland                  NaN             NaN             NaN"
      ]
     },
     "execution_count": 86,
     "metadata": {},
     "output_type": "execute_result"
    }
   ],
   "source": [
    "df[mask]"
   ]
  },
  {
   "cell_type": "code",
   "execution_count": 87,
   "metadata": {},
   "outputs": [
    {
     "data": {
      "text/html": [
       "<div>\n",
       "<style scoped>\n",
       "    .dataframe tbody tr th:only-of-type {\n",
       "        vertical-align: middle;\n",
       "    }\n",
       "\n",
       "    .dataframe tbody tr th {\n",
       "        vertical-align: top;\n",
       "    }\n",
       "\n",
       "    .dataframe thead th {\n",
       "        text-align: right;\n",
       "    }\n",
       "</style>\n",
       "<table border=\"1\" class=\"dataframe\">\n",
       "  <thead>\n",
       "    <tr style=\"text-align: right;\">\n",
       "      <th></th>\n",
       "      <th>gdpPercap_1962</th>\n",
       "      <th>gdpPercap_1967</th>\n",
       "      <th>gdpPercap_1972</th>\n",
       "    </tr>\n",
       "  </thead>\n",
       "  <tbody>\n",
       "    <tr>\n",
       "      <th>count</th>\n",
       "      <td>2.000000</td>\n",
       "      <td>3.000000</td>\n",
       "      <td>3.000000</td>\n",
       "    </tr>\n",
       "    <tr>\n",
       "      <th>mean</th>\n",
       "      <td>13120.625535</td>\n",
       "      <td>13915.843047</td>\n",
       "      <td>16676.358320</td>\n",
       "    </tr>\n",
       "    <tr>\n",
       "      <th>std</th>\n",
       "      <td>466.373656</td>\n",
       "      <td>3408.589070</td>\n",
       "      <td>3817.597015</td>\n",
       "    </tr>\n",
       "    <tr>\n",
       "      <th>min</th>\n",
       "      <td>12790.849560</td>\n",
       "      <td>10022.401310</td>\n",
       "      <td>12269.273780</td>\n",
       "    </tr>\n",
       "    <tr>\n",
       "      <th>25%</th>\n",
       "      <td>12955.737547</td>\n",
       "      <td>12692.826335</td>\n",
       "      <td>15532.009725</td>\n",
       "    </tr>\n",
       "    <tr>\n",
       "      <th>50%</th>\n",
       "      <td>13120.625535</td>\n",
       "      <td>15363.251360</td>\n",
       "      <td>18794.745670</td>\n",
       "    </tr>\n",
       "    <tr>\n",
       "      <th>75%</th>\n",
       "      <td>13285.513523</td>\n",
       "      <td>15862.563915</td>\n",
       "      <td>18879.900590</td>\n",
       "    </tr>\n",
       "    <tr>\n",
       "      <th>max</th>\n",
       "      <td>13450.401510</td>\n",
       "      <td>16361.876470</td>\n",
       "      <td>18965.055510</td>\n",
       "    </tr>\n",
       "  </tbody>\n",
       "</table>\n",
       "</div>"
      ],
      "text/plain": [
       "       gdpPercap_1962  gdpPercap_1967  gdpPercap_1972\n",
       "count        2.000000        3.000000        3.000000\n",
       "mean     13120.625535    13915.843047    16676.358320\n",
       "std        466.373656     3408.589070     3817.597015\n",
       "min      12790.849560    10022.401310    12269.273780\n",
       "25%      12955.737547    12692.826335    15532.009725\n",
       "50%      13120.625535    15363.251360    18794.745670\n",
       "75%      13285.513523    15862.563915    18879.900590\n",
       "max      13450.401510    16361.876470    18965.055510"
      ]
     },
     "execution_count": 87,
     "metadata": {},
     "output_type": "execute_result"
    }
   ],
   "source": [
    "df = df[mask]\n",
    "df.describe()"
   ]
  },
  {
   "cell_type": "code",
   "execution_count": 88,
   "metadata": {
    "collapsed": true
   },
   "outputs": [
    {
     "data": {
      "text/html": [
       "<div>\n",
       "<style scoped>\n",
       "    .dataframe tbody tr th:only-of-type {\n",
       "        vertical-align: middle;\n",
       "    }\n",
       "\n",
       "    .dataframe tbody tr th {\n",
       "        vertical-align: top;\n",
       "    }\n",
       "\n",
       "    .dataframe thead th {\n",
       "        text-align: right;\n",
       "    }\n",
       "</style>\n",
       "<table border=\"1\" class=\"dataframe\">\n",
       "  <thead>\n",
       "    <tr style=\"text-align: right;\">\n",
       "      <th></th>\n",
       "      <th>gdpPercap_1952</th>\n",
       "      <th>gdpPercap_1957</th>\n",
       "      <th>gdpPercap_1962</th>\n",
       "      <th>gdpPercap_1967</th>\n",
       "      <th>gdpPercap_1972</th>\n",
       "      <th>gdpPercap_1977</th>\n",
       "      <th>gdpPercap_1982</th>\n",
       "      <th>gdpPercap_1987</th>\n",
       "      <th>gdpPercap_1992</th>\n",
       "      <th>gdpPercap_1997</th>\n",
       "      <th>gdpPercap_2002</th>\n",
       "      <th>gdpPercap_2007</th>\n",
       "    </tr>\n",
       "    <tr>\n",
       "      <th>country</th>\n",
       "      <th></th>\n",
       "      <th></th>\n",
       "      <th></th>\n",
       "      <th></th>\n",
       "      <th></th>\n",
       "      <th></th>\n",
       "      <th></th>\n",
       "      <th></th>\n",
       "      <th></th>\n",
       "      <th></th>\n",
       "      <th></th>\n",
       "      <th></th>\n",
       "    </tr>\n",
       "  </thead>\n",
       "  <tbody>\n",
       "    <tr>\n",
       "      <th>Albania</th>\n",
       "      <td>False</td>\n",
       "      <td>False</td>\n",
       "      <td>False</td>\n",
       "      <td>False</td>\n",
       "      <td>False</td>\n",
       "      <td>False</td>\n",
       "      <td>False</td>\n",
       "      <td>False</td>\n",
       "      <td>False</td>\n",
       "      <td>False</td>\n",
       "      <td>False</td>\n",
       "      <td>False</td>\n",
       "    </tr>\n",
       "    <tr>\n",
       "      <th>Austria</th>\n",
       "      <td>True</td>\n",
       "      <td>True</td>\n",
       "      <td>True</td>\n",
       "      <td>True</td>\n",
       "      <td>True</td>\n",
       "      <td>True</td>\n",
       "      <td>True</td>\n",
       "      <td>True</td>\n",
       "      <td>True</td>\n",
       "      <td>True</td>\n",
       "      <td>True</td>\n",
       "      <td>True</td>\n",
       "    </tr>\n",
       "    <tr>\n",
       "      <th>Belgium</th>\n",
       "      <td>True</td>\n",
       "      <td>True</td>\n",
       "      <td>True</td>\n",
       "      <td>True</td>\n",
       "      <td>True</td>\n",
       "      <td>True</td>\n",
       "      <td>True</td>\n",
       "      <td>True</td>\n",
       "      <td>True</td>\n",
       "      <td>True</td>\n",
       "      <td>True</td>\n",
       "      <td>True</td>\n",
       "    </tr>\n",
       "    <tr>\n",
       "      <th>Bosnia and Herzegovina</th>\n",
       "      <td>False</td>\n",
       "      <td>False</td>\n",
       "      <td>False</td>\n",
       "      <td>False</td>\n",
       "      <td>False</td>\n",
       "      <td>False</td>\n",
       "      <td>False</td>\n",
       "      <td>False</td>\n",
       "      <td>False</td>\n",
       "      <td>False</td>\n",
       "      <td>False</td>\n",
       "      <td>False</td>\n",
       "    </tr>\n",
       "    <tr>\n",
       "      <th>Bulgaria</th>\n",
       "      <td>False</td>\n",
       "      <td>False</td>\n",
       "      <td>False</td>\n",
       "      <td>False</td>\n",
       "      <td>False</td>\n",
       "      <td>False</td>\n",
       "      <td>False</td>\n",
       "      <td>False</td>\n",
       "      <td>False</td>\n",
       "      <td>False</td>\n",
       "      <td>False</td>\n",
       "      <td>False</td>\n",
       "    </tr>\n",
       "    <tr>\n",
       "      <th>Croatia</th>\n",
       "      <td>False</td>\n",
       "      <td>False</td>\n",
       "      <td>False</td>\n",
       "      <td>False</td>\n",
       "      <td>False</td>\n",
       "      <td>False</td>\n",
       "      <td>False</td>\n",
       "      <td>False</td>\n",
       "      <td>False</td>\n",
       "      <td>False</td>\n",
       "      <td>False</td>\n",
       "      <td>False</td>\n",
       "    </tr>\n",
       "    <tr>\n",
       "      <th>Czech Republic</th>\n",
       "      <td>True</td>\n",
       "      <td>True</td>\n",
       "      <td>True</td>\n",
       "      <td>True</td>\n",
       "      <td>True</td>\n",
       "      <td>True</td>\n",
       "      <td>False</td>\n",
       "      <td>False</td>\n",
       "      <td>False</td>\n",
       "      <td>False</td>\n",
       "      <td>False</td>\n",
       "      <td>False</td>\n",
       "    </tr>\n",
       "    <tr>\n",
       "      <th>Denmark</th>\n",
       "      <td>True</td>\n",
       "      <td>True</td>\n",
       "      <td>True</td>\n",
       "      <td>True</td>\n",
       "      <td>True</td>\n",
       "      <td>True</td>\n",
       "      <td>True</td>\n",
       "      <td>True</td>\n",
       "      <td>True</td>\n",
       "      <td>True</td>\n",
       "      <td>True</td>\n",
       "      <td>True</td>\n",
       "    </tr>\n",
       "    <tr>\n",
       "      <th>Finland</th>\n",
       "      <td>True</td>\n",
       "      <td>True</td>\n",
       "      <td>True</td>\n",
       "      <td>True</td>\n",
       "      <td>True</td>\n",
       "      <td>True</td>\n",
       "      <td>True</td>\n",
       "      <td>True</td>\n",
       "      <td>True</td>\n",
       "      <td>True</td>\n",
       "      <td>True</td>\n",
       "      <td>True</td>\n",
       "    </tr>\n",
       "    <tr>\n",
       "      <th>France</th>\n",
       "      <td>True</td>\n",
       "      <td>True</td>\n",
       "      <td>True</td>\n",
       "      <td>True</td>\n",
       "      <td>True</td>\n",
       "      <td>True</td>\n",
       "      <td>True</td>\n",
       "      <td>True</td>\n",
       "      <td>True</td>\n",
       "      <td>True</td>\n",
       "      <td>True</td>\n",
       "      <td>True</td>\n",
       "    </tr>\n",
       "    <tr>\n",
       "      <th>Germany</th>\n",
       "      <td>True</td>\n",
       "      <td>True</td>\n",
       "      <td>True</td>\n",
       "      <td>True</td>\n",
       "      <td>True</td>\n",
       "      <td>True</td>\n",
       "      <td>True</td>\n",
       "      <td>True</td>\n",
       "      <td>True</td>\n",
       "      <td>True</td>\n",
       "      <td>True</td>\n",
       "      <td>True</td>\n",
       "    </tr>\n",
       "    <tr>\n",
       "      <th>Greece</th>\n",
       "      <td>False</td>\n",
       "      <td>False</td>\n",
       "      <td>False</td>\n",
       "      <td>False</td>\n",
       "      <td>True</td>\n",
       "      <td>False</td>\n",
       "      <td>False</td>\n",
       "      <td>False</td>\n",
       "      <td>True</td>\n",
       "      <td>False</td>\n",
       "      <td>True</td>\n",
       "      <td>True</td>\n",
       "    </tr>\n",
       "    <tr>\n",
       "      <th>Hungary</th>\n",
       "      <td>False</td>\n",
       "      <td>False</td>\n",
       "      <td>False</td>\n",
       "      <td>False</td>\n",
       "      <td>False</td>\n",
       "      <td>False</td>\n",
       "      <td>False</td>\n",
       "      <td>False</td>\n",
       "      <td>False</td>\n",
       "      <td>False</td>\n",
       "      <td>False</td>\n",
       "      <td>False</td>\n",
       "    </tr>\n",
       "    <tr>\n",
       "      <th>Iceland</th>\n",
       "      <td>True</td>\n",
       "      <td>True</td>\n",
       "      <td>True</td>\n",
       "      <td>True</td>\n",
       "      <td>True</td>\n",
       "      <td>True</td>\n",
       "      <td>True</td>\n",
       "      <td>True</td>\n",
       "      <td>True</td>\n",
       "      <td>True</td>\n",
       "      <td>True</td>\n",
       "      <td>True</td>\n",
       "    </tr>\n",
       "    <tr>\n",
       "      <th>Ireland</th>\n",
       "      <td>False</td>\n",
       "      <td>False</td>\n",
       "      <td>False</td>\n",
       "      <td>False</td>\n",
       "      <td>False</td>\n",
       "      <td>False</td>\n",
       "      <td>False</td>\n",
       "      <td>False</td>\n",
       "      <td>True</td>\n",
       "      <td>True</td>\n",
       "      <td>True</td>\n",
       "      <td>True</td>\n",
       "    </tr>\n",
       "    <tr>\n",
       "      <th>Italy</th>\n",
       "      <td>False</td>\n",
       "      <td>False</td>\n",
       "      <td>False</td>\n",
       "      <td>False</td>\n",
       "      <td>False</td>\n",
       "      <td>False</td>\n",
       "      <td>True</td>\n",
       "      <td>True</td>\n",
       "      <td>True</td>\n",
       "      <td>True</td>\n",
       "      <td>True</td>\n",
       "      <td>True</td>\n",
       "    </tr>\n",
       "    <tr>\n",
       "      <th>Montenegro</th>\n",
       "      <td>False</td>\n",
       "      <td>False</td>\n",
       "      <td>False</td>\n",
       "      <td>False</td>\n",
       "      <td>False</td>\n",
       "      <td>False</td>\n",
       "      <td>False</td>\n",
       "      <td>False</td>\n",
       "      <td>False</td>\n",
       "      <td>False</td>\n",
       "      <td>False</td>\n",
       "      <td>False</td>\n",
       "    </tr>\n",
       "    <tr>\n",
       "      <th>Netherlands</th>\n",
       "      <td>True</td>\n",
       "      <td>True</td>\n",
       "      <td>True</td>\n",
       "      <td>True</td>\n",
       "      <td>True</td>\n",
       "      <td>True</td>\n",
       "      <td>True</td>\n",
       "      <td>True</td>\n",
       "      <td>True</td>\n",
       "      <td>True</td>\n",
       "      <td>True</td>\n",
       "      <td>True</td>\n",
       "    </tr>\n",
       "    <tr>\n",
       "      <th>Norway</th>\n",
       "      <td>True</td>\n",
       "      <td>True</td>\n",
       "      <td>True</td>\n",
       "      <td>True</td>\n",
       "      <td>True</td>\n",
       "      <td>True</td>\n",
       "      <td>True</td>\n",
       "      <td>True</td>\n",
       "      <td>True</td>\n",
       "      <td>True</td>\n",
       "      <td>True</td>\n",
       "      <td>True</td>\n",
       "    </tr>\n",
       "    <tr>\n",
       "      <th>Poland</th>\n",
       "      <td>False</td>\n",
       "      <td>False</td>\n",
       "      <td>False</td>\n",
       "      <td>False</td>\n",
       "      <td>False</td>\n",
       "      <td>False</td>\n",
       "      <td>False</td>\n",
       "      <td>False</td>\n",
       "      <td>False</td>\n",
       "      <td>False</td>\n",
       "      <td>False</td>\n",
       "      <td>False</td>\n",
       "    </tr>\n",
       "    <tr>\n",
       "      <th>Portugal</th>\n",
       "      <td>False</td>\n",
       "      <td>False</td>\n",
       "      <td>False</td>\n",
       "      <td>False</td>\n",
       "      <td>False</td>\n",
       "      <td>False</td>\n",
       "      <td>False</td>\n",
       "      <td>False</td>\n",
       "      <td>False</td>\n",
       "      <td>False</td>\n",
       "      <td>False</td>\n",
       "      <td>False</td>\n",
       "    </tr>\n",
       "    <tr>\n",
       "      <th>Romania</th>\n",
       "      <td>False</td>\n",
       "      <td>False</td>\n",
       "      <td>False</td>\n",
       "      <td>False</td>\n",
       "      <td>False</td>\n",
       "      <td>False</td>\n",
       "      <td>False</td>\n",
       "      <td>False</td>\n",
       "      <td>False</td>\n",
       "      <td>False</td>\n",
       "      <td>False</td>\n",
       "      <td>False</td>\n",
       "    </tr>\n",
       "    <tr>\n",
       "      <th>Serbia</th>\n",
       "      <td>False</td>\n",
       "      <td>False</td>\n",
       "      <td>False</td>\n",
       "      <td>False</td>\n",
       "      <td>False</td>\n",
       "      <td>False</td>\n",
       "      <td>False</td>\n",
       "      <td>False</td>\n",
       "      <td>False</td>\n",
       "      <td>False</td>\n",
       "      <td>False</td>\n",
       "      <td>False</td>\n",
       "    </tr>\n",
       "    <tr>\n",
       "      <th>Slovak Republic</th>\n",
       "      <td>False</td>\n",
       "      <td>False</td>\n",
       "      <td>False</td>\n",
       "      <td>False</td>\n",
       "      <td>False</td>\n",
       "      <td>False</td>\n",
       "      <td>False</td>\n",
       "      <td>False</td>\n",
       "      <td>False</td>\n",
       "      <td>False</td>\n",
       "      <td>False</td>\n",
       "      <td>False</td>\n",
       "    </tr>\n",
       "    <tr>\n",
       "      <th>Slovenia</th>\n",
       "      <td>False</td>\n",
       "      <td>False</td>\n",
       "      <td>False</td>\n",
       "      <td>False</td>\n",
       "      <td>False</td>\n",
       "      <td>True</td>\n",
       "      <td>True</td>\n",
       "      <td>True</td>\n",
       "      <td>False</td>\n",
       "      <td>False</td>\n",
       "      <td>False</td>\n",
       "      <td>True</td>\n",
       "    </tr>\n",
       "    <tr>\n",
       "      <th>Spain</th>\n",
       "      <td>False</td>\n",
       "      <td>False</td>\n",
       "      <td>False</td>\n",
       "      <td>False</td>\n",
       "      <td>False</td>\n",
       "      <td>False</td>\n",
       "      <td>False</td>\n",
       "      <td>False</td>\n",
       "      <td>True</td>\n",
       "      <td>True</td>\n",
       "      <td>True</td>\n",
       "      <td>True</td>\n",
       "    </tr>\n",
       "    <tr>\n",
       "      <th>Sweden</th>\n",
       "      <td>True</td>\n",
       "      <td>True</td>\n",
       "      <td>True</td>\n",
       "      <td>True</td>\n",
       "      <td>True</td>\n",
       "      <td>True</td>\n",
       "      <td>True</td>\n",
       "      <td>True</td>\n",
       "      <td>True</td>\n",
       "      <td>True</td>\n",
       "      <td>True</td>\n",
       "      <td>True</td>\n",
       "    </tr>\n",
       "    <tr>\n",
       "      <th>Switzerland</th>\n",
       "      <td>True</td>\n",
       "      <td>True</td>\n",
       "      <td>True</td>\n",
       "      <td>True</td>\n",
       "      <td>True</td>\n",
       "      <td>True</td>\n",
       "      <td>True</td>\n",
       "      <td>True</td>\n",
       "      <td>True</td>\n",
       "      <td>True</td>\n",
       "      <td>True</td>\n",
       "      <td>True</td>\n",
       "    </tr>\n",
       "    <tr>\n",
       "      <th>Turkey</th>\n",
       "      <td>False</td>\n",
       "      <td>False</td>\n",
       "      <td>False</td>\n",
       "      <td>False</td>\n",
       "      <td>False</td>\n",
       "      <td>False</td>\n",
       "      <td>False</td>\n",
       "      <td>False</td>\n",
       "      <td>False</td>\n",
       "      <td>False</td>\n",
       "      <td>False</td>\n",
       "      <td>False</td>\n",
       "    </tr>\n",
       "    <tr>\n",
       "      <th>United Kingdom</th>\n",
       "      <td>True</td>\n",
       "      <td>True</td>\n",
       "      <td>True</td>\n",
       "      <td>True</td>\n",
       "      <td>True</td>\n",
       "      <td>True</td>\n",
       "      <td>True</td>\n",
       "      <td>True</td>\n",
       "      <td>True</td>\n",
       "      <td>True</td>\n",
       "      <td>True</td>\n",
       "      <td>True</td>\n",
       "    </tr>\n",
       "  </tbody>\n",
       "</table>\n",
       "</div>"
      ],
      "text/plain": [
       "                        gdpPercap_1952  gdpPercap_1957  gdpPercap_1962  \\\n",
       "country                                                                  \n",
       "Albania                          False           False           False   \n",
       "Austria                           True            True            True   \n",
       "Belgium                           True            True            True   \n",
       "Bosnia and Herzegovina           False           False           False   \n",
       "Bulgaria                         False           False           False   \n",
       "Croatia                          False           False           False   \n",
       "Czech Republic                    True            True            True   \n",
       "Denmark                           True            True            True   \n",
       "Finland                           True            True            True   \n",
       "France                            True            True            True   \n",
       "Germany                           True            True            True   \n",
       "Greece                           False           False           False   \n",
       "Hungary                          False           False           False   \n",
       "Iceland                           True            True            True   \n",
       "Ireland                          False           False           False   \n",
       "Italy                            False           False           False   \n",
       "Montenegro                       False           False           False   \n",
       "Netherlands                       True            True            True   \n",
       "Norway                            True            True            True   \n",
       "Poland                           False           False           False   \n",
       "Portugal                         False           False           False   \n",
       "Romania                          False           False           False   \n",
       "Serbia                           False           False           False   \n",
       "Slovak Republic                  False           False           False   \n",
       "Slovenia                         False           False           False   \n",
       "Spain                            False           False           False   \n",
       "Sweden                            True            True            True   \n",
       "Switzerland                       True            True            True   \n",
       "Turkey                           False           False           False   \n",
       "United Kingdom                    True            True            True   \n",
       "\n",
       "                        gdpPercap_1967  gdpPercap_1972  gdpPercap_1977  \\\n",
       "country                                                                  \n",
       "Albania                          False           False           False   \n",
       "Austria                           True            True            True   \n",
       "Belgium                           True            True            True   \n",
       "Bosnia and Herzegovina           False           False           False   \n",
       "Bulgaria                         False           False           False   \n",
       "Croatia                          False           False           False   \n",
       "Czech Republic                    True            True            True   \n",
       "Denmark                           True            True            True   \n",
       "Finland                           True            True            True   \n",
       "France                            True            True            True   \n",
       "Germany                           True            True            True   \n",
       "Greece                           False            True           False   \n",
       "Hungary                          False           False           False   \n",
       "Iceland                           True            True            True   \n",
       "Ireland                          False           False           False   \n",
       "Italy                            False           False           False   \n",
       "Montenegro                       False           False           False   \n",
       "Netherlands                       True            True            True   \n",
       "Norway                            True            True            True   \n",
       "Poland                           False           False           False   \n",
       "Portugal                         False           False           False   \n",
       "Romania                          False           False           False   \n",
       "Serbia                           False           False           False   \n",
       "Slovak Republic                  False           False           False   \n",
       "Slovenia                         False           False            True   \n",
       "Spain                            False           False           False   \n",
       "Sweden                            True            True            True   \n",
       "Switzerland                       True            True            True   \n",
       "Turkey                           False           False           False   \n",
       "United Kingdom                    True            True            True   \n",
       "\n",
       "                        gdpPercap_1982  gdpPercap_1987  gdpPercap_1992  \\\n",
       "country                                                                  \n",
       "Albania                          False           False           False   \n",
       "Austria                           True            True            True   \n",
       "Belgium                           True            True            True   \n",
       "Bosnia and Herzegovina           False           False           False   \n",
       "Bulgaria                         False           False           False   \n",
       "Croatia                          False           False           False   \n",
       "Czech Republic                   False           False           False   \n",
       "Denmark                           True            True            True   \n",
       "Finland                           True            True            True   \n",
       "France                            True            True            True   \n",
       "Germany                           True            True            True   \n",
       "Greece                           False           False            True   \n",
       "Hungary                          False           False           False   \n",
       "Iceland                           True            True            True   \n",
       "Ireland                          False           False            True   \n",
       "Italy                             True            True            True   \n",
       "Montenegro                       False           False           False   \n",
       "Netherlands                       True            True            True   \n",
       "Norway                            True            True            True   \n",
       "Poland                           False           False           False   \n",
       "Portugal                         False           False           False   \n",
       "Romania                          False           False           False   \n",
       "Serbia                           False           False           False   \n",
       "Slovak Republic                  False           False           False   \n",
       "Slovenia                          True            True           False   \n",
       "Spain                            False           False            True   \n",
       "Sweden                            True            True            True   \n",
       "Switzerland                       True            True            True   \n",
       "Turkey                           False           False           False   \n",
       "United Kingdom                    True            True            True   \n",
       "\n",
       "                        gdpPercap_1997  gdpPercap_2002  gdpPercap_2007  \n",
       "country                                                                 \n",
       "Albania                          False           False           False  \n",
       "Austria                           True            True            True  \n",
       "Belgium                           True            True            True  \n",
       "Bosnia and Herzegovina           False           False           False  \n",
       "Bulgaria                         False           False           False  \n",
       "Croatia                          False           False           False  \n",
       "Czech Republic                   False           False           False  \n",
       "Denmark                           True            True            True  \n",
       "Finland                           True            True            True  \n",
       "France                            True            True            True  \n",
       "Germany                           True            True            True  \n",
       "Greece                           False            True            True  \n",
       "Hungary                          False           False           False  \n",
       "Iceland                           True            True            True  \n",
       "Ireland                           True            True            True  \n",
       "Italy                             True            True            True  \n",
       "Montenegro                       False           False           False  \n",
       "Netherlands                       True            True            True  \n",
       "Norway                            True            True            True  \n",
       "Poland                           False           False           False  \n",
       "Portugal                         False           False           False  \n",
       "Romania                          False           False           False  \n",
       "Serbia                           False           False           False  \n",
       "Slovak Republic                  False           False           False  \n",
       "Slovenia                         False           False            True  \n",
       "Spain                             True            True            True  \n",
       "Sweden                            True            True            True  \n",
       "Switzerland                       True            True            True  \n",
       "Turkey                           False           False           False  \n",
       "United Kingdom                    True            True            True  "
      ]
     },
     "execution_count": 88,
     "metadata": {},
     "output_type": "execute_result"
    }
   ],
   "source": [
    "mask_higher = data > data.mean()\n",
    "mask_higher"
   ]
  },
  {
   "cell_type": "code",
   "execution_count": 92,
   "metadata": {},
   "outputs": [
    {
     "data": {
      "text/plain": [
       "country\n",
       "Albania                   0.000000\n",
       "Austria                   1.000000\n",
       "Belgium                   1.000000\n",
       "Bosnia and Herzegovina    0.000000\n",
       "Bulgaria                  0.000000\n",
       "Croatia                   0.000000\n",
       "Czech Republic            0.500000\n",
       "Denmark                   1.000000\n",
       "Finland                   1.000000\n",
       "France                    1.000000\n",
       "Germany                   1.000000\n",
       "Greece                    0.333333\n",
       "Hungary                   0.000000\n",
       "Iceland                   1.000000\n",
       "Ireland                   0.333333\n",
       "Italy                     0.500000\n",
       "Montenegro                0.000000\n",
       "Netherlands               1.000000\n",
       "Norway                    1.000000\n",
       "Poland                    0.000000\n",
       "Portugal                  0.000000\n",
       "Romania                   0.000000\n",
       "Serbia                    0.000000\n",
       "Slovak Republic           0.000000\n",
       "Slovenia                  0.333333\n",
       "Spain                     0.333333\n",
       "Sweden                    1.000000\n",
       "Switzerland               1.000000\n",
       "Turkey                    0.000000\n",
       "United Kingdom            1.000000\n",
       "dtype: float64"
      ]
     },
     "execution_count": 92,
     "metadata": {},
     "output_type": "execute_result"
    }
   ],
   "source": [
    "wealth_score = mask_higher.aggregate('sum', axis=1) / len(data.columns)\n",
    "wealth_score"
   ]
  },
  {
   "cell_type": "code",
   "execution_count": 94,
   "metadata": {},
   "outputs": [],
   "source": [
    "df = data.groupby(wealth_score).sum()"
   ]
  },
  {
   "cell_type": "code",
   "execution_count": 95,
   "metadata": {},
   "outputs": [],
   "source": [
    "df.to_csv('output/wealthsum.csv')"
   ]
  },
  {
   "cell_type": "code",
   "execution_count": 96,
   "metadata": {},
   "outputs": [
    {
     "data": {
      "text/html": [
       "<div>\n",
       "<style scoped>\n",
       "    .dataframe tbody tr th:only-of-type {\n",
       "        vertical-align: middle;\n",
       "    }\n",
       "\n",
       "    .dataframe tbody tr th {\n",
       "        vertical-align: top;\n",
       "    }\n",
       "\n",
       "    .dataframe thead th {\n",
       "        text-align: right;\n",
       "    }\n",
       "</style>\n",
       "<table border=\"1\" class=\"dataframe\">\n",
       "  <thead>\n",
       "    <tr style=\"text-align: right;\">\n",
       "      <th></th>\n",
       "      <th>gdpPercap_1952</th>\n",
       "      <th>gdpPercap_1957</th>\n",
       "      <th>gdpPercap_1962</th>\n",
       "      <th>gdpPercap_1967</th>\n",
       "      <th>gdpPercap_1972</th>\n",
       "      <th>gdpPercap_1977</th>\n",
       "      <th>gdpPercap_1982</th>\n",
       "      <th>gdpPercap_1987</th>\n",
       "      <th>gdpPercap_1992</th>\n",
       "      <th>gdpPercap_1997</th>\n",
       "      <th>gdpPercap_2002</th>\n",
       "      <th>gdpPercap_2007</th>\n",
       "    </tr>\n",
       "  </thead>\n",
       "  <tbody>\n",
       "    <tr>\n",
       "      <th>0.000000</th>\n",
       "      <td>36916.854200</td>\n",
       "      <td>46110.918793</td>\n",
       "      <td>56850.065437</td>\n",
       "      <td>71324.848786</td>\n",
       "      <td>88569.346898</td>\n",
       "      <td>104459.358438</td>\n",
       "      <td>113553.768507</td>\n",
       "      <td>119649.599409</td>\n",
       "      <td>92380.047256</td>\n",
       "      <td>103772.937598</td>\n",
       "      <td>118590.929863</td>\n",
       "      <td>149577.357928</td>\n",
       "    </tr>\n",
       "    <tr>\n",
       "      <th>0.333333</th>\n",
       "      <td>16790.046878</td>\n",
       "      <td>20942.456800</td>\n",
       "      <td>25744.935321</td>\n",
       "      <td>33567.667670</td>\n",
       "      <td>45277.839976</td>\n",
       "      <td>53860.456750</td>\n",
       "      <td>59679.634020</td>\n",
       "      <td>64436.912960</td>\n",
       "      <td>67918.093220</td>\n",
       "      <td>80876.051580</td>\n",
       "      <td>102086.795210</td>\n",
       "      <td>122803.729520</td>\n",
       "    </tr>\n",
       "    <tr>\n",
       "      <th>0.500000</th>\n",
       "      <td>11807.544405</td>\n",
       "      <td>14505.000150</td>\n",
       "      <td>18380.449470</td>\n",
       "      <td>21421.846200</td>\n",
       "      <td>25377.727380</td>\n",
       "      <td>29056.145370</td>\n",
       "      <td>31914.712050</td>\n",
       "      <td>35517.678220</td>\n",
       "      <td>36310.666080</td>\n",
       "      <td>40723.538700</td>\n",
       "      <td>45564.308390</td>\n",
       "      <td>51403.028210</td>\n",
       "    </tr>\n",
       "    <tr>\n",
       "      <th>1.000000</th>\n",
       "      <td>104317.277560</td>\n",
       "      <td>127332.008735</td>\n",
       "      <td>149989.154201</td>\n",
       "      <td>178000.350040</td>\n",
       "      <td>215162.343140</td>\n",
       "      <td>241143.412730</td>\n",
       "      <td>263388.781960</td>\n",
       "      <td>296825.131210</td>\n",
       "      <td>315238.235970</td>\n",
       "      <td>346930.926170</td>\n",
       "      <td>385109.939210</td>\n",
       "      <td>427850.333420</td>\n",
       "    </tr>\n",
       "  </tbody>\n",
       "</table>\n",
       "</div>"
      ],
      "text/plain": [
       "          gdpPercap_1952  gdpPercap_1957  gdpPercap_1962  gdpPercap_1967  \\\n",
       "0.000000    36916.854200    46110.918793    56850.065437    71324.848786   \n",
       "0.333333    16790.046878    20942.456800    25744.935321    33567.667670   \n",
       "0.500000    11807.544405    14505.000150    18380.449470    21421.846200   \n",
       "1.000000   104317.277560   127332.008735   149989.154201   178000.350040   \n",
       "\n",
       "          gdpPercap_1972  gdpPercap_1977  gdpPercap_1982  gdpPercap_1987  \\\n",
       "0.000000    88569.346898   104459.358438   113553.768507   119649.599409   \n",
       "0.333333    45277.839976    53860.456750    59679.634020    64436.912960   \n",
       "0.500000    25377.727380    29056.145370    31914.712050    35517.678220   \n",
       "1.000000   215162.343140   241143.412730   263388.781960   296825.131210   \n",
       "\n",
       "          gdpPercap_1992  gdpPercap_1997  gdpPercap_2002  gdpPercap_2007  \n",
       "0.000000    92380.047256   103772.937598   118590.929863   149577.357928  \n",
       "0.333333    67918.093220    80876.051580   102086.795210   122803.729520  \n",
       "0.500000    36310.666080    40723.538700    45564.308390    51403.028210  \n",
       "1.000000   315238.235970   346930.926170   385109.939210   427850.333420  "
      ]
     },
     "execution_count": 96,
     "metadata": {},
     "output_type": "execute_result"
    }
   ],
   "source": [
    "df"
   ]
  },
  {
   "cell_type": "markdown",
   "metadata": {},
   "source": [
    "Plotting"
   ]
  },
  {
   "cell_type": "code",
   "execution_count": 97,
   "metadata": {},
   "outputs": [],
   "source": [
    "import matplotlib.pyplot as plt"
   ]
  },
  {
   "cell_type": "code",
   "execution_count": 98,
   "metadata": {},
   "outputs": [
    {
     "data": {
      "image/png": "[encoded data removed]",
      "text/plain": [
       "<Figure size 432x288 with 1 Axes>"
      ]
     },
     "metadata": {
      "needs_background": "light"
     },
     "output_type": "display_data"
    }
   ],
   "source": [
    "time =[0, 1, 2, 3]\n",
    "position = [0, 100, 200, 300]\n",
    "\n",
    "plt.plot(time, position)\n",
    "plt.xlabel('Time (hr)')\n",
    "plt.ylabel('Position (km)')\n",
    "plt.show()"
   ]
  },
  {
   "cell_type": "code",
   "execution_count": 99,
   "metadata": {},
   "outputs": [
    {
     "name": "stdout",
     "output_type": "stream",
     "text": [
      "<class 'pandas.core.frame.DataFrame'>\n",
      "Index: 2 entries, Australia to New Zealand\n",
      "Data columns (total 12 columns):\n",
      "gdpPercap_1952    2 non-null float64\n",
      "gdpPercap_1957    2 non-null float64\n",
      "gdpPercap_1962    2 non-null float64\n",
      "gdpPercap_1967    2 non-null float64\n",
      "gdpPercap_1972    2 non-null float64\n",
      "gdpPercap_1977    2 non-null float64\n",
      "gdpPercap_1982    2 non-null float64\n",
      "gdpPercap_1987    2 non-null float64\n",
      "gdpPercap_1992    2 non-null float64\n",
      "gdpPercap_1997    2 non-null float64\n",
      "gdpPercap_2002    2 non-null float64\n",
      "gdpPercap_2007    2 non-null float64\n",
      "dtypes: float64(12)\n",
      "memory usage: 208.0+ bytes\n"
     ]
    }
   ],
   "source": [
    "data = pd.read_csv('data/gapminder_gdp_oceania.csv', index_col='country')\n",
    "data.info()"
   ]
  },
  {
   "cell_type": "code",
   "execution_count": 100,
   "metadata": {},
   "outputs": [
    {
     "data": {
      "text/html": [
       "<div>\n",
       "<style scoped>\n",
       "    .dataframe tbody tr th:only-of-type {\n",
       "        vertical-align: middle;\n",
       "    }\n",
       "\n",
       "    .dataframe tbody tr th {\n",
       "        vertical-align: top;\n",
       "    }\n",
       "\n",
       "    .dataframe thead th {\n",
       "        text-align: right;\n",
       "    }\n",
       "</style>\n",
       "<table border=\"1\" class=\"dataframe\">\n",
       "  <thead>\n",
       "    <tr style=\"text-align: right;\">\n",
       "      <th></th>\n",
       "      <th>1952</th>\n",
       "      <th>1957</th>\n",
       "      <th>1962</th>\n",
       "      <th>1967</th>\n",
       "      <th>1972</th>\n",
       "      <th>1977</th>\n",
       "      <th>1982</th>\n",
       "      <th>1987</th>\n",
       "      <th>1992</th>\n",
       "      <th>1997</th>\n",
       "      <th>2002</th>\n",
       "      <th>2007</th>\n",
       "    </tr>\n",
       "    <tr>\n",
       "      <th>country</th>\n",
       "      <th></th>\n",
       "      <th></th>\n",
       "      <th></th>\n",
       "      <th></th>\n",
       "      <th></th>\n",
       "      <th></th>\n",
       "      <th></th>\n",
       "      <th></th>\n",
       "      <th></th>\n",
       "      <th></th>\n",
       "      <th></th>\n",
       "      <th></th>\n",
       "    </tr>\n",
       "  </thead>\n",
       "  <tbody>\n",
       "    <tr>\n",
       "      <th>Australia</th>\n",
       "      <td>10039.59564</td>\n",
       "      <td>10949.64959</td>\n",
       "      <td>12217.22686</td>\n",
       "      <td>14526.12465</td>\n",
       "      <td>16788.62948</td>\n",
       "      <td>18334.19751</td>\n",
       "      <td>19477.00928</td>\n",
       "      <td>21888.88903</td>\n",
       "      <td>23424.76683</td>\n",
       "      <td>26997.93657</td>\n",
       "      <td>30687.75473</td>\n",
       "      <td>34435.36744</td>\n",
       "    </tr>\n",
       "    <tr>\n",
       "      <th>New Zealand</th>\n",
       "      <td>10556.57566</td>\n",
       "      <td>12247.39532</td>\n",
       "      <td>13175.67800</td>\n",
       "      <td>14463.91893</td>\n",
       "      <td>16046.03728</td>\n",
       "      <td>16233.71770</td>\n",
       "      <td>17632.41040</td>\n",
       "      <td>19007.19129</td>\n",
       "      <td>18363.32494</td>\n",
       "      <td>21050.41377</td>\n",
       "      <td>23189.80135</td>\n",
       "      <td>25185.00911</td>\n",
       "    </tr>\n",
       "  </tbody>\n",
       "</table>\n",
       "</div>"
      ],
      "text/plain": [
       "                    1952         1957         1962         1967         1972  \\\n",
       "country                                                                        \n",
       "Australia    10039.59564  10949.64959  12217.22686  14526.12465  16788.62948   \n",
       "New Zealand  10556.57566  12247.39532  13175.67800  14463.91893  16046.03728   \n",
       "\n",
       "                    1977         1982         1987         1992         1997  \\\n",
       "country                                                                        \n",
       "Australia    18334.19751  19477.00928  21888.88903  23424.76683  26997.93657   \n",
       "New Zealand  16233.71770  17632.41040  19007.19129  18363.32494  21050.41377   \n",
       "\n",
       "                    2002         2007  \n",
       "country                                \n",
       "Australia    30687.75473  34435.36744  \n",
       "New Zealand  23189.80135  25185.00911  "
      ]
     },
     "execution_count": 100,
     "metadata": {},
     "output_type": "execute_result"
    }
   ],
   "source": [
    "years = data.columns.str.strip('gdpPercap_')\n",
    "data.columns = years.astype(int)\n",
    "data"
   ]
  },
  {
   "cell_type": "code",
   "execution_count": 101,
   "metadata": {},
   "outputs": [
    {
     "data": {
      "text/plain": [
       "<matplotlib.axes._subplots.AxesSubplot at 0x180e6484be0>"
      ]
     },
     "execution_count": 101,
     "metadata": {},
     "output_type": "execute_result"
    },
    {
     "data": {
      "image/png": "[encoded data removed]",
      "text/plain": [
       "<Figure size 432x288 with 1 Axes>"
      ]
     },
     "metadata": {
      "needs_background": "light"
     },
     "output_type": "display_data"
    }
   ],
   "source": [
    "data.loc['Australia', :].plot()"
   ]
  },
  {
   "cell_type": "code",
   "execution_count": 102,
   "metadata": {},
   "outputs": [
    {
     "data": {
      "text/plain": [
       "<matplotlib.axes._subplots.AxesSubplot at 0x180e625aba8>"
      ]
     },
     "execution_count": 102,
     "metadata": {},
     "output_type": "execute_result"
    },
    {
     "data": {
      "image/png": "[encoded data removed]",
      "text/plain": [
       "<Figure size 432x288 with 1 Axes>"
      ]
     },
     "metadata": {
      "needs_background": "light"
     },
     "output_type": "display_data"
    }
   ],
   "source": [
    "data.T.plot()"
   ]
  },
  {
   "cell_type": "code",
   "execution_count": 103,
   "metadata": {},
   "outputs": [],
   "source": [
    "data.loc?"
   ]
  },
  {
   "cell_type": "code",
   "execution_count": 105,
   "metadata": {},
   "outputs": [
    {
     "data": {
      "text/plain": [
       "<matplotlib.axes._subplots.AxesSubplot at 0x180e65fa978>"
      ]
     },
     "execution_count": 105,
     "metadata": {},
     "output_type": "execute_result"
    },
    {
     "data": {
      "image/png": "[encoded data removed]",
      "text/plain": [
       "<Figure size 432x288 with 1 Axes>"
      ]
     },
     "metadata": {},
     "output_type": "display_data"
    }
   ],
   "source": [
    "plt.style.use('ggplot')\n",
    "data.T.plot(kind='bar')"
   ]
  },
  {
   "cell_type": "code",
   "execution_count": 6,
   "metadata": {},
   "outputs": [
    {
     "name": "stdout",
     "output_type": "stream",
     "text": [
      "5043391\n"
     ]
    }
   ],
   "source": [
    "import pandas as pd\n",
    "soundings = pd.read_csv('C:/Users/matthew.wilson/Documents/SWC_Day3/soundings.txt')\n"
   ]
  },
  {
   "cell_type": "code",
   "execution_count": 7,
   "metadata": {},
   "outputs": [],
   "source": [
    "bag_metadata = pd.read_csv('C:/Users/matthew.wilson/Documents/SWC_Day3/All BAG Tracking - All BAG Metadata.csv')"
   ]
  },
  {
   "cell_type": "code",
   "execution_count": 8,
   "metadata": {},
   "outputs": [
    {
     "name": "stdout",
     "output_type": "stream",
     "text": [
      "<class 'pandas.core.frame.DataFrame'>\n",
      "RangeIndex: 4134 entries, 0 to 4133\n",
      "Data columns (total 28 columns):\n",
      "QC                                            1068 non-null object\n",
      "Survey                                        4133 non-null object\n",
      "Bag File Name                                 4130 non-null object\n",
      "Reviewer                                      3440 non-null object\n",
      "MCD Branch                                    4129 non-null object\n",
      "Sensitive? (Y/N)                              4127 non-null object\n",
      "Survey Start Date                             4130 non-null object\n",
      "Survey End Date                               4130 non-null object\n",
      "Source data type (MBES)                       3881 non-null object\n",
      "Source data type (SSS)                        1944 non-null object\n",
      "Source data type (VB)                         420 non-null object\n",
      "Full Coverage Achieved (Y/N)                  4126 non-null object\n",
      "Full bathymetric coverage achieved (Y/N)      4124 non-null object\n",
      "Features detection requirements met (Y/N)     4128 non-null object\n",
      "Least depth of features detected (Y/N)        3598 non-null object\n",
      "Size of features detected (m)                 3549 non-null object\n",
      "Horizontal position uncertainty (fixed)       4126 non-null object\n",
      "Horizontal position uncertainty (variable)    4101 non-null object\n",
      "Vertical Uncertainty (fixed)                  4127 non-null object\n",
      "Vertical Uncertainty (variable)               4127 non-null object\n",
      "Horizontal datum                              4128 non-null object\n",
      "Vertical datum                                4129 non-null object\n",
      "Note                                          699 non-null object\n",
      "Responsible Party                             500 non-null object\n",
      "Point of Contact                              498 non-null object\n",
      "Email Address                                 419 non-null object\n",
      "Online Resource                               132 non-null object\n",
      "Legal Constraint: License                     498 non-null object\n",
      "dtypes: object(28)\n",
      "memory usage: 904.4+ KB\n"
     ]
    }
   ],
   "source": [
    "bag_metadata.info()"
   ]
  },
  {
   "cell_type": "code",
   "execution_count": 10,
   "metadata": {},
   "outputs": [
    {
     "data": {
      "text/plain": [
       "QC                                            object\n",
       "Survey                                        object\n",
       "Bag File Name                                 object\n",
       "Reviewer                                      object\n",
       "MCD Branch                                    object\n",
       "Sensitive? (Y/N)                              object\n",
       "Survey Start Date                             object\n",
       "Survey End Date                               object\n",
       "Source data type (MBES)                       object\n",
       "Source data type (SSS)                        object\n",
       "Source data type (VB)                         object\n",
       "Full Coverage Achieved (Y/N)                  object\n",
       "Full bathymetric coverage achieved (Y/N)      object\n",
       "Features detection requirements met (Y/N)     object\n",
       "Least depth of features detected (Y/N)        object\n",
       "Size of features detected (m)                 object\n",
       "Horizontal position uncertainty (fixed)       object\n",
       "Horizontal position uncertainty (variable)    object\n",
       "Vertical Uncertainty (fixed)                  object\n",
       "Vertical Uncertainty (variable)               object\n",
       "Horizontal datum                              object\n",
       "Vertical datum                                object\n",
       "Note                                          object\n",
       "Responsible Party                             object\n",
       "Point of Contact                              object\n",
       "Email Address                                 object\n",
       "Online Resource                               object\n",
       "Legal Constraint: License                     object\n",
       "dtype: object"
      ]
     },
     "execution_count": 10,
     "metadata": {},
     "output_type": "execute_result"
    }
   ],
   "source": [
    "bag_metadata.dtypes"
   ]
  },
  {
   "cell_type": "code",
   "execution_count": 11,
   "metadata": {},
   "outputs": [
    {
     "data": {
      "text/plain": [
       "Index(['QC', 'Survey', 'Bag File Name', 'Reviewer', 'MCD Branch',\n",
       "       'Sensitive? (Y/N)', 'Survey Start Date', 'Survey End Date',\n",
       "       'Source data type (MBES)', 'Source data type (SSS)',\n",
       "       'Source data type (VB)', 'Full Coverage Achieved (Y/N)',\n",
       "       'Full bathymetric coverage achieved (Y/N)',\n",
       "       'Features detection requirements met (Y/N)',\n",
       "       'Least depth of features detected (Y/N)',\n",
       "       'Size of features detected (m)',\n",
       "       'Horizontal position uncertainty (fixed)',\n",
       "       'Horizontal position uncertainty (variable)',\n",
       "       'Vertical Uncertainty (fixed)', 'Vertical Uncertainty (variable)',\n",
       "       'Horizontal datum', 'Vertical datum', 'Note', 'Responsible Party',\n",
       "       'Point of Contact', 'Email Address', 'Online Resource',\n",
       "       'Legal Constraint: License'],\n",
       "      dtype='object')"
      ]
     },
     "execution_count": 11,
     "metadata": {},
     "output_type": "execute_result"
    }
   ],
   "source": [
    "bag_metadata.columns"
   ]
  },
  {
   "cell_type": "code",
   "execution_count": 12,
   "metadata": {},
   "outputs": [
    {
     "data": {
      "text/plain": [
       "RangeIndex(start=0, stop=4134, step=1)"
      ]
     },
     "execution_count": 12,
     "metadata": {},
     "output_type": "execute_result"
    }
   ],
   "source": [
    "bag = bag_metadata\n",
    "bag.index"
   ]
  },
  {
   "cell_type": "code",
   "execution_count": 13,
   "metadata": {},
   "outputs": [
    {
     "data": {
      "text/plain": [
       "<bound method NDFrame.describe of           QC  Survey                    Bag File Name              Reviewer  \\\n",
       "0        NaN  D00137           D00137_MB_5m_MLLW_1of1  alessandra.ditommaso   \n",
       "1      Peter  D00140           D00140_VB_5m_MLLW_1of1       scarlett.Duncan   \n",
       "2      Peter  D00141           D00141_VB_4m_MLLW_1of1       Hannah.Berkimer   \n",
       "3      Peter  D00142           D00142_VB_5m_MLLW_1of1       scarlett.Duncan   \n",
       "4        NaN  D00149       D00149_MB_1m_MLLW_1of1.bag          robert.short   \n",
       "5      Peter  D00151           D00151_MB_1m_MLLW_1of2          adam.argento   \n",
       "6      Peter  D00151           D00151_VB_4m_MLLW_2of2          adam.argento   \n",
       "7      Peter  D00151     D00151_MBVB_4m_MLLW_Combined          adam.argento   \n",
       "8      Peter  D00158           D00158_MB_VR_MLLW_2of2          adam.argento   \n",
       "9      Peter  D00158           D00158_MB_4m_MLLW_1of2          adam.argento   \n",
       "10       NaN  D00159           D00159_MB_1m_MLLW_1of1          adam.argento   \n",
       "11       NaN  D00162           D00162_VB_4m_MLLW_1of1            kurt.brown   \n",
       "12       NaN  D00166           D00166_VB_1m_MLLW_1of1  alessandra.ditommaso   \n",
       "13       NaN  D00173         D00173_MB_50cm_MLLW_1of1            kurt.brown   \n",
       "14       NaN  D00173    D00173_MB_50cm_Ellipsoid_1of1            kurt.brown   \n",
       "15       NaN  D00176       D00176_VB_4m_MLLW_1of1.bag        peter.holmberg   \n",
       "16       NaN  D00177     D00177_MB_50cm_MLLW_1of1.bag           katie.reser   \n",
       "17       NaN  D00178     D00178_MB_50cm_MLLW_1of1.bag       brendan.guthrie   \n",
       "18       NaN  D00180     D00180_MB_50cm_MLLW_1of1.bag          robert.short   \n",
       "19       NaN  D00181     D00181_MB_50cm_MLLW_1of1.bag       brendan.guthrie   \n",
       "20       NaN  D00185      D00185_MB_16m_MLLW_3of3.bag          robert.short   \n",
       "21       NaN  D00185       D00185_MB_4m_MLLW_1of3.bag          robert.short   \n",
       "22       NaN  D00185       D00185_MB_8m_MLLW_2of3.bag      kr, robert.short   \n",
       "23       NaN  D00185      D00185_MB_16m_MLLW_Combined      kr, robert.short   \n",
       "24       NaN  D00193       D00193_MB_1m_MLLW_1of1.bag         julia.wallace   \n",
       "25       NaN  D00193  D00193_MB_1m_Ellipsoid_1of1.bag         julia.wallace   \n",
       "26       NaN  D00195       D00195_VB_4m_MLLW_1of1.bag            kurt.brown   \n",
       "27       NaN  D00201     D00201_MB_50cm_MLLW_1of1.bag  alessandra.ditommaso   \n",
       "28    Meghan  D00202         D00202_MB_50cm_MLLW_1of1           ariel.colby   \n",
       "29       NaN  D00206         D00206_MB_50cm_MLLW_1of1        peter.holmberg   \n",
       "...      ...     ...                              ...                   ...   \n",
       "4104     NaN  H13275           H13275_MB_VR_Ellipsoid    daniel.r.devereaux   \n",
       "4105     NaN  H13209                H13209_MB_VR_MLLW          adam.argento   \n",
       "4106     NaN  H13209           H13209_MB_VR_Ellipsoid          adam.argento   \n",
       "4107     NaN  F00816         F00816_MB_50cm_MLLW_1of2        tyanne.faulkes   \n",
       "4108     NaN  F00816    F00816_MB_50cm_Ellipsoid_1of2        tyanne.faulkes   \n",
       "4109     NaN  F00816         F00816_MB_50cm_MLLW_2of2        tyanne.faulkes   \n",
       "4110     NaN  F00816    F00816_MB_50cm_Ellipsoid_2of2        tyanne.faulkes   \n",
       "4111     NaN  F00781         F00781_MB_50cm_MLLW_1of1          adam.argento   \n",
       "4112     NaN  F00781    F00781_MB_50cm_Ellipsoid_1of1          adam.argento   \n",
       "4113     NaN  H12518            H12518_MB_VR_MLLW.bag       Veronique.Jegat   \n",
       "4114   Peter  H12202            H12202_MB_2m_MLLW.bag        fernando.ortiz   \n",
       "4115     NaN  H11127            H11127_MB_VR_MLLW.bag           Kari.Gehrke   \n",
       "4116     NaN  H11127            H11127_VB_4m_MLLW.bag           Kari.Gehrke   \n",
       "4117  Meghan  W00380          W00380_MB_16m_MLLW_1of1         julia.wallace   \n",
       "4118  Meghan  W00380     W00380_MB_16m_Ellipsoid_1of1         julia.wallace   \n",
       "4119     NaN  H12203           H12203_MB_2m_MLLW_1of2        Fernando.ortiz   \n",
       "4120     NaN  H12203         H12203_MB_50cm_MLLW_1of2        Fernando.ortiz   \n",
       "4121     NaN  H13012       H13012_MB_1m_MLLW_1of4.bag           Rita.bowker   \n",
       "4122     NaN  H13012       H13012_MB_2m_MLLW_2of4.bag           Rita.bowker   \n",
       "4123     NaN  H13012       H13012_MB_4m_MLLW_3of4.bag           Rita.bowker   \n",
       "4124     NaN  H13012       H13012_LI_5m_MLLW_4of4.bag           Rita.bowker   \n",
       "4125     NaN  H13012  H13012_LI_5m_Ellipsoid_1of1.bag           Rita.bowker   \n",
       "4126     NaN  H12177                H12177_MB_VR_MLLW         Kelly.Simmons   \n",
       "4127     NaN  H13080           H13080_MB_4m_MLLW_1of1                snoopy   \n",
       "4128     NaN  H12176            H12176_MB_VR_MLLW.bag    Kartik.Thammisetti   \n",
       "4129     NaN  H11822            H11822_MB_VR_MLLW.bag            Martyn Day   \n",
       "4130     NaN  H13224           H13224_MB_1m_MLLW_1of1        bryan chauveau   \n",
       "4131     NaN  H13224      H13224_MB_1m_Ellipsoid_1of1        bryan chauveau   \n",
       "4132     NaN  H13324                H13324_MB_VR_MLLW            kurt.brown   \n",
       "4133     NaN  H13324           H13324_MB_VR_Ellipsoid            kurt.brown   \n",
       "\n",
       "     MCD Branch Sensitive? (Y/N) Survey Start Date Survey End Date  \\\n",
       "0           PBG                N         1/13/2005       4/21/2005   \n",
       "1           PBG                N          7/2/2008      12/19/2008   \n",
       "2           PBG                N          7/4/2008      12/19/2008   \n",
       "3           PBG                N         7/14/2008       1/30/2009   \n",
       "4           PBC                N         9/30/2009       9/30/2009   \n",
       "5           PBE                N        11/14/2009      11/16/2009   \n",
       "6           PBE                N        11/14/2009      11/16/2009   \n",
       "7           PBE                N        11/14/2009      11/16/2009   \n",
       "8           PBE                N          6/5/2011        6/8/2011   \n",
       "9           PBE                N          6/5/2011        6/8/2011   \n",
       "10          PBE                N         8/29/2011       8/30/2011   \n",
       "11          PBE                N         4/25/2011       5/31/2011   \n",
       "12          PBG                N          5/1/2012        5/3/2012   \n",
       "13          PBE                N        10/31/2012      10/31/2012   \n",
       "14          PBE                N        10/31/2012      10/31/2012   \n",
       "15          PBC                N          5/8/2012       5/11/2012   \n",
       "16          PBC                N          4/7/2013        4/8/2013   \n",
       "17          PBC                N        04/10/2013       4/29/2013   \n",
       "18          PBC                N         4/10/2013       4/24/2013   \n",
       "19          PBC                N         4/10/2013       4/24/2013   \n",
       "20          PBC                N         8/20/2013       9/13/2013   \n",
       "21          PBC                N         8/20/2013       9/13/2013   \n",
       "22          PBC                N         8/20/2013       9/13/2013   \n",
       "23          PBC                N         8/20/2013       9/13/2013   \n",
       "24          PBB                N         4/13/2015       4/14/2015   \n",
       "25          PBB                N         4/13/2015       4/14/2015   \n",
       "26          PBC                N          3/6/2015        3/6/2015   \n",
       "27          PBB                N          9/8/2015        9/8/2015   \n",
       "28          PBG                N        10/19/2015      10/20/2015   \n",
       "29          PBE                N         2/12/2016       2/12/2016   \n",
       "...         ...              ...               ...             ...   \n",
       "4104        PBD                N         8/20/2019       8/26/2019   \n",
       "4105        PBD                N         10/4/2019      10/14/2019   \n",
       "4106        PBD                N         10/4/2019      10/14/2019   \n",
       "4107        PBG                N          9/1/2020        9/2/2020   \n",
       "4108        PBG                N          9/1/2020        9/2/2020   \n",
       "4109        PBG                N          9/1/2020        9/2/2020   \n",
       "4110        PBG                N          9/1/2020        9/2/2020   \n",
       "4111        PBG                N         9/23/2019       10/1/2019   \n",
       "4112        PBG                N         9/23/2019       10/1/2019   \n",
       "4113        PBA                N          5/9/2013       6/18/2013   \n",
       "4114        PBE                N         10/5/2010      10/20/2010   \n",
       "4115        PBA                N         5/27/2006       6/25/2006   \n",
       "4116        PBA                N         6/13/2006       6/25/2006   \n",
       "4117        PBB                N         9/11/2014       9/11/2014   \n",
       "4118        PBB                N         9/11/2014       9/11/2014   \n",
       "4119        PBE                N        10/12/2010      10/26/2010   \n",
       "4120        PBE                N        10/12/2010      10/26/2010   \n",
       "4121        PBC                N         6/26/2017       10/7/2017   \n",
       "4122        PBC                N         6/26/2017       10/7/2017   \n",
       "4123        PBC                N         6/26/2017       10/7/2017   \n",
       "4124        PBC                N         6/26/2017       10/7/2017   \n",
       "4125        PBC                N         6/26/2017       10/7/2017   \n",
       "4126        PBA                N          5/5/2010       5/24/2010   \n",
       "4127        PBF                N         1/31/2021       1/16/2021   \n",
       "4128        PBA                N          5/9/2010       5/22/2010   \n",
       "4129        PBA                N        10/24/2008      11/13/2008   \n",
       "4130        PBG                N          6/8/2019       8/29/2019   \n",
       "4131        PBG                N          6/8/2019       8/29/2019   \n",
       "4132        PBD                N        10/17/2019      10/23/2019   \n",
       "4133        PBD                N        10/23/2019      10/23/2019   \n",
       "\n",
       "     Source data type (MBES) Source data type (SSS)  ...  \\\n",
       "0                       MBES                    NaN  ...   \n",
       "1                        NaN                    NaN  ...   \n",
       "2                        NaN                    NaN  ...   \n",
       "3                        NaN                    NaN  ...   \n",
       "4                       MBES                    NaN  ...   \n",
       "5                       MBES                    NaN  ...   \n",
       "6                        NaN                    SSS  ...   \n",
       "7                       MBES                    SSS  ...   \n",
       "8                       MBES                    NaN  ...   \n",
       "9                       MBES                    NaN  ...   \n",
       "10                      MBES                    SSS  ...   \n",
       "11                       NaN                    NaN  ...   \n",
       "12                       NaN                    SSS  ...   \n",
       "13                      MBES                    NaN  ...   \n",
       "14                      MBES                    NaN  ...   \n",
       "15                       NaN                    NaN  ...   \n",
       "16                      MBES                    NaN  ...   \n",
       "17                      MBES                    SSS  ...   \n",
       "18                      MBES                    SSS  ...   \n",
       "19                      MBES                    NaN  ...   \n",
       "20                      MBES                    NaN  ...   \n",
       "21                      MBES                    NaN  ...   \n",
       "22                      MBES                    NaN  ...   \n",
       "23                      MBES                    NaN  ...   \n",
       "24                      MBES                    NaN  ...   \n",
       "25                      MBES                    NaN  ...   \n",
       "26                       NaN                    SSS  ...   \n",
       "27                      MBES                    NaN  ...   \n",
       "28                      MBES                    SSS  ...   \n",
       "29                      MBES                    NaN  ...   \n",
       "...                      ...                    ...  ...   \n",
       "4104                    MBES                    NaN  ...   \n",
       "4105                    MBES                    NaN  ...   \n",
       "4106                    MBES                    NaN  ...   \n",
       "4107                    MBES                    SSS  ...   \n",
       "4108                    MBES                    SSS  ...   \n",
       "4109                    MBES                    SSS  ...   \n",
       "4110                    MBES                    SSS  ...   \n",
       "4111                    MBES                    SSS  ...   \n",
       "4112                    MBES                    SSS  ...   \n",
       "4113                    MBES                    NaN  ...   \n",
       "4114                    MBES                    SSS  ...   \n",
       "4115                    MBES                    NaN  ...   \n",
       "4116                     NaN                    NaN  ...   \n",
       "4117                    MBES                    NaN  ...   \n",
       "4118                    MBES                    NaN  ...   \n",
       "4119                    MBES                    SSS  ...   \n",
       "4120                    MBES                    SSS  ...   \n",
       "4121                    MBES                    NaN  ...   \n",
       "4122                    MBES                    NaN  ...   \n",
       "4123                    MBES                    NaN  ...   \n",
       "4124                      LI                    NaN  ...   \n",
       "4125                      LI                    NaN  ...   \n",
       "4126                    MBES                    NaN  ...   \n",
       "4127                       Y                    SSS  ...   \n",
       "4128                    MBES                    NaN  ...   \n",
       "4129                    MBES                    NaN  ...   \n",
       "4130                    MBES                    SSS  ...   \n",
       "4131                    MBES                    SSS  ...   \n",
       "4132                    MBES                    NaN  ...   \n",
       "4133                    MBES                    NaN  ...   \n",
       "\n",
       "     Vertical Uncertainty (fixed) Vertical Uncertainty (variable)  \\\n",
       "0                            50cm                             1%d   \n",
       "1                            50cm                             1%d   \n",
       "2                            50cm                             1%d   \n",
       "3                            50cm                             1%d   \n",
       "4                            50cm                             1%d   \n",
       "5                              2m                             5%d   \n",
       "6                              2m                             5%d   \n",
       "7                              2m                             5%d   \n",
       "8                              2m                             5%d   \n",
       "9                              1m                             2%d   \n",
       "10                           50cm                             1%d   \n",
       "11                           50cm                             1%d   \n",
       "12                           50cm                             1%d   \n",
       "13                           50cm                             1%d   \n",
       "14                           50cm                             1%d   \n",
       "15                             1m                             2%d   \n",
       "16                           50cm                             1%d   \n",
       "17                           50cm                             1%d   \n",
       "18                           50cm                             1%d   \n",
       "19                           50cm                             1%d   \n",
       "20                           50cm                             1%d   \n",
       "21                           50cm                             1%d   \n",
       "22                           50cm                             1%d   \n",
       "23                           50cm                             1%d   \n",
       "24                             1m                             2%d   \n",
       "25                             1m                             2%d   \n",
       "26                             2m                             5%d   \n",
       "27                           50cm                             1%d   \n",
       "28                           50cm                             1%d   \n",
       "29                           50cm                             1%d   \n",
       "...                           ...                             ...   \n",
       "4104                         50cm                             1%d   \n",
       "4105                         50cm                             1%d   \n",
       "4106                         50cm                             1%d   \n",
       "4107                         50cm                             1%d   \n",
       "4108                         50cm                             1%d   \n",
       "4109                         50cm                             1%d   \n",
       "4110                         50cm                             1%d   \n",
       "4111                         50cm                             1%d   \n",
       "4112                         50cm                             1%d   \n",
       "4113                         50cm                             1%d   \n",
       "4114                         50cm                             1%d   \n",
       "4115                         50cm                             1%d   \n",
       "4116                           1m                             2%d   \n",
       "4117                           1m                             2%d   \n",
       "4118                           1m                             2%d   \n",
       "4119                         50cm                              1%   \n",
       "4120                         50cm                              1%   \n",
       "4121                         50cm                              1%   \n",
       "4122                         50cm                              1%   \n",
       "4123                         50cm                              1%   \n",
       "4124                           1m                             2%d   \n",
       "4125                           1m                             2%d   \n",
       "4126                         50cm                             1%d   \n",
       "4127                           5m                             5%d   \n",
       "4128                         50cm                             1%d   \n",
       "4129                         50cm                             1%d   \n",
       "4130                           1m                             1%d   \n",
       "4131                           1m                             1%d   \n",
       "4132                           1m                             1%d   \n",
       "4133                           1m                             1%d   \n",
       "\n",
       "     Horizontal datum Vertical datum  \\\n",
       "0       WGS84 UTM 15N           MLLW   \n",
       "1       NAD83 UTM 16N           MLLW   \n",
       "2       NAD83 UTM 16N           MLLW   \n",
       "3       NAD83 UTM 16N           MLLW   \n",
       "4       WGS84 UTM 19N           MLLW   \n",
       "5       WGS84 UTM 18N           MLLW   \n",
       "6       WGS84 UTM 18N           MLLW   \n",
       "7       WGS84 UTM 18N           MLLW   \n",
       "8       WGS84 UTM 17N           MLLW   \n",
       "9       NAD83 UTM 18N           MLLW   \n",
       "10      WGS84 UTM 18N           MLLW   \n",
       "11       NAD83 UTM18N           MLLW   \n",
       "12      NAD83 UTM 16N           MLLW   \n",
       "13       NAD83 UTM17N           MLLW   \n",
       "14       NAD83 UTM17N      Ellipsoid   \n",
       "15      NAD83 UTM 19N           MLLW   \n",
       "16      NAD83 UTM 18N           MLLW   \n",
       "17      NAD83 UTM 18N           MLLW   \n",
       "18      NAD83 UTM 18N           MLLW   \n",
       "19      NAD83 UTM 18N           MLLW   \n",
       "20      NAD83 UTM 19N           MLLW   \n",
       "21      NAD83 UTM 19N           MLLW   \n",
       "22      NAD83 UTM 19N           MLLW   \n",
       "23      NAD83 UTM 19N           MLLW   \n",
       "24      NAD83 UTM 18N           MLLW   \n",
       "25      NAD83 UTM 18N      Ellipsoid   \n",
       "26      NAD83 UTM 19N           MLLW   \n",
       "27      NAD83 UTM 17N           MLLW   \n",
       "28      NAD83 UTM 15N           MLLW   \n",
       "29       NAD83 UTM18N           MLLW   \n",
       "...               ...            ...   \n",
       "4104     NAD83 UTM 4N      Ellipsoid   \n",
       "4105    NAD83 UTM 11N           MLLW   \n",
       "4106    NAD83 UTM 11N      Ellipsoid   \n",
       "4107    NAD83 UTM 15N           MLLW   \n",
       "4108    NAD83 UTM 15N      Ellipsoid   \n",
       "4109    NAD83 UTM 15N           MLLW   \n",
       "4110    NAD83 UTM 15N      Ellipsoid   \n",
       "4111    NAD83 UTM 16N           MLLW   \n",
       "4112    NAD83 UTM 16N      Ellipsoid   \n",
       "4113     NAD83 UTM 9N           MLLW   \n",
       "4114    NAD83 UTM 18N           MLLW   \n",
       "4115     NAD83 UTM 8N           MLLW   \n",
       "4116     NAD83 UTM 8N           MLLW   \n",
       "4117    NAD83 UTM 17N           MLLW   \n",
       "4118    NAD83 UTM 17N      Ellipsoid   \n",
       "4119    NAD83 UTM 18N           MLLW   \n",
       "4120     NAD83 UTM18N           MLLW   \n",
       "4121            WGS84           MLLW   \n",
       "4122            WGS84           MLLW   \n",
       "4123            WGS84           MLLW   \n",
       "4124            WGS84           MLLW   \n",
       "4125            WGS84      Ellipsoid   \n",
       "4126     NAD83 UTM 9N           MLLW   \n",
       "4127             50cm            1%d   \n",
       "4128     NAD83 UTM 9N           MLLW   \n",
       "4129     NAD83 UTM 8N           MLLW   \n",
       "4130    NAD83 UTM 14N           MLLW   \n",
       "4131    NAD83 UTM 14N      Ellipsoid   \n",
       "4132    NAD83 UTM 11N           MLLW   \n",
       "4133    NAD83 UTM 11N      Ellipsoid   \n",
       "\n",
       "                                                   Note  \\\n",
       "0                                                   NaN   \n",
       "1                                                   NaN   \n",
       "2                                                   NaN   \n",
       "3                                                   NaN   \n",
       "4                                                   NaN   \n",
       "5                                                   NaN   \n",
       "6                                                   NaN   \n",
       "7                                                   NaN   \n",
       "8                           Combined BAG not applicable   \n",
       "9                           Combined BAG not applicable   \n",
       "10                                                  NaN   \n",
       "11                    Bad GPS system documented in Memo   \n",
       "12                                                  NaN   \n",
       "13                                                  NaN   \n",
       "14                                                  NaN   \n",
       "15                                                  NaN   \n",
       "16                                                  NaN   \n",
       "17    D00178_DR: Multibeam Echo Sounder and Sidescan...   \n",
       "18    D00180_DR: Multibeam Echo Sounder and Sidescan...   \n",
       "19                                                  NaN   \n",
       "20                                                  NaN   \n",
       "21                                                  NaN   \n",
       "22                                                  NaN   \n",
       "23                                                  NaN   \n",
       "24                                                  NaN   \n",
       "25                                                  NaN   \n",
       "26                                                  NaN   \n",
       "27                                                  NaN   \n",
       "28                    NRT Houston Ship Channel response   \n",
       "29                                                  NaN   \n",
       "...                                                 ...   \n",
       "4104                                                NaN   \n",
       "4105                                                NaN   \n",
       "4106                                                NaN   \n",
       "4107                                                NaN   \n",
       "4108                                                NaN   \n",
       "4109                                                NaN   \n",
       "4110                                                NaN   \n",
       "4111                                                NaN   \n",
       "4112                                                NaN   \n",
       "4113                                                NaN   \n",
       "4114                                                NaN   \n",
       "4115                                                NaN   \n",
       "4116                                                NaN   \n",
       "4117                                                NaN   \n",
       "4118                                                NaN   \n",
       "4119                                                NaN   \n",
       "4120                                                NaN   \n",
       "4121                                 Survey is in WGS84   \n",
       "4122                                 Survey is in WGS84   \n",
       "4123                                 Survey is in WGS84   \n",
       "4124                                 Survey is in WGS84   \n",
       "4125                                 Survey is in WGS84   \n",
       "4126                                                NaN   \n",
       "4127                                      WGS84 UTM 16N   \n",
       "4128                                                NaN   \n",
       "4129                                                NaN   \n",
       "4130                                                NaN   \n",
       "4131                                                NaN   \n",
       "4132                                                NaN   \n",
       "4133                                                NaN   \n",
       "\n",
       "                                      Responsible Party Point of Contact  \\\n",
       "0                                                   NaN              NaN   \n",
       "1                                                   NaN              NaN   \n",
       "2                                                   NaN              NaN   \n",
       "3                                                   NaN              NaN   \n",
       "4                                                   NaN              NaN   \n",
       "5                                                   NaN              NaN   \n",
       "6                                                   NaN              NaN   \n",
       "7                                                   NaN              NaN   \n",
       "8                                                   NaN              NaN   \n",
       "9                                                   NaN              NaN   \n",
       "10                                                  NaN              NaN   \n",
       "11                                                  NaN              NaN   \n",
       "12                                                  NaN              NaN   \n",
       "13                                                  NaN              NaN   \n",
       "14                                                  NaN              NaN   \n",
       "15                                                  NaN              NaN   \n",
       "16                                                  NaN              NaN   \n",
       "17                                                  NaN              NaN   \n",
       "18                                                  NaN              NaN   \n",
       "19                                                  NaN              NaN   \n",
       "20                                                  NaN              NaN   \n",
       "21                                                  NaN              NaN   \n",
       "22                                                  NaN              NaN   \n",
       "23                                                  NaN              NaN   \n",
       "24                                                  NaN              NaN   \n",
       "25                                                  NaN              NaN   \n",
       "26                                                  NaN              NaN   \n",
       "27                                                  NaN              NaN   \n",
       "28                                                  NaN              NaN   \n",
       "29                                                  NaN              NaN   \n",
       "...                                                 ...              ...   \n",
       "4104                                                NaN              NaN   \n",
       "4105                                                NaN              NaN   \n",
       "4106                                                NaN              NaN   \n",
       "4107                                                NaN              NaN   \n",
       "4108                                                NaN              NaN   \n",
       "4109                                                NaN              NaN   \n",
       "4110                                                NaN              NaN   \n",
       "4111                                                NaN              NaN   \n",
       "4112                                                NaN              NaN   \n",
       "4113                                                NaN              NaN   \n",
       "4114                                                NaN              NaN   \n",
       "4115                                                NaN              NaN   \n",
       "4116                                                NaN              NaN   \n",
       "4117  U.S. EPA Region 4, Science and Ecosystem Suppo...      Mel Parsons   \n",
       "4118  U.S. EPA Region 4, Science and Ecosystem Suppo...      Mel Parsons   \n",
       "4119                                                NaN              NaN   \n",
       "4120                                                NaN              NaN   \n",
       "4121                                                NaN              NaN   \n",
       "4122                                                NaN              NaN   \n",
       "4123                                                NaN              NaN   \n",
       "4124                                                NaN              NaN   \n",
       "4125                                                NaN              NaN   \n",
       "4126                                                NaN              NaN   \n",
       "4127                                               LWRP              NaN   \n",
       "4128                                                NaN              NaN   \n",
       "4129                                                NaN              NaN   \n",
       "4130                                               MLLW              NaN   \n",
       "4131                                                NaN              NaN   \n",
       "4132                                                NaN              NaN   \n",
       "4133                                                NaN              NaN   \n",
       "\n",
       "            Email Address                                    Online Resource  \\\n",
       "0                     NaN                                                NaN   \n",
       "1                     NaN                                                NaN   \n",
       "2                     NaN                                                NaN   \n",
       "3                     NaN                                                NaN   \n",
       "4                     NaN                                                NaN   \n",
       "5                     NaN                                                NaN   \n",
       "6                     NaN                                                NaN   \n",
       "7                     NaN                                                NaN   \n",
       "8                     NaN                                                NaN   \n",
       "9                     NaN                                                NaN   \n",
       "10                    NaN                                                NaN   \n",
       "11                    NaN                                                NaN   \n",
       "12                    NaN                                                NaN   \n",
       "13                    NaN                                                NaN   \n",
       "14                    NaN                                                NaN   \n",
       "15                    NaN                                                NaN   \n",
       "16                    NaN                                                NaN   \n",
       "17                    NaN                                                NaN   \n",
       "18                    NaN                                                NaN   \n",
       "19                    NaN                                                NaN   \n",
       "20                    NaN                                                NaN   \n",
       "21                    NaN                                                NaN   \n",
       "22                    NaN                                                NaN   \n",
       "23                    NaN                                                NaN   \n",
       "24                    NaN                                                NaN   \n",
       "25                    NaN                                                NaN   \n",
       "26                    NaN                                                NaN   \n",
       "27                    NaN                                                NaN   \n",
       "28                    NaN                                                NaN   \n",
       "29                    NaN                                                NaN   \n",
       "...                   ...                                                ...   \n",
       "4104                  NaN                                                NaN   \n",
       "4105                  NaN                                                NaN   \n",
       "4106                  NaN                                                NaN   \n",
       "4107                  NaN                                                NaN   \n",
       "4108                  NaN                                                NaN   \n",
       "4109                  NaN                                                NaN   \n",
       "4110                  NaN                                                NaN   \n",
       "4111                  NaN                                                NaN   \n",
       "4112                  NaN                                                NaN   \n",
       "4113                  NaN                                                NaN   \n",
       "4114                  NaN                                                NaN   \n",
       "4115                  NaN                                                NaN   \n",
       "4116                  NaN                                                NaN   \n",
       "4117  Parsons.mel@epa.gov  https://www.ngdc.noaa.gov/ships/nancy_foster/N...   \n",
       "4118  Parsons.mel@epa.gov  https://www.ngdc.noaa.gov/ships/nancy_foster/N...   \n",
       "4119                  NaN                                                NaN   \n",
       "4120                  NaN                                                NaN   \n",
       "4121                  NaN                                                NaN   \n",
       "4122                  NaN                                                NaN   \n",
       "4123                  NaN                                                NaN   \n",
       "4124                  NaN                                                NaN   \n",
       "4125                  NaN                                                NaN   \n",
       "4126                  NaN                                                NaN   \n",
       "4127                  NaN                                                NaN   \n",
       "4128                  NaN                                                NaN   \n",
       "4129                  NaN                                                NaN   \n",
       "4130                  NaN                                                NaN   \n",
       "4131                  NaN                                                NaN   \n",
       "4132                  NaN                                                NaN   \n",
       "4133                  NaN                                                NaN   \n",
       "\n",
       "     Legal Constraint: License  \n",
       "0                          NaN  \n",
       "1                          NaN  \n",
       "2                          NaN  \n",
       "3                          NaN  \n",
       "4                          NaN  \n",
       "5                          NaN  \n",
       "6                          NaN  \n",
       "7                          NaN  \n",
       "8                          NaN  \n",
       "9                          NaN  \n",
       "10                         NaN  \n",
       "11                         NaN  \n",
       "12                         NaN  \n",
       "13                         NaN  \n",
       "14                         NaN  \n",
       "15                         NaN  \n",
       "16                         NaN  \n",
       "17                         NaN  \n",
       "18                         NaN  \n",
       "19                         NaN  \n",
       "20                         NaN  \n",
       "21                         NaN  \n",
       "22                         NaN  \n",
       "23                         NaN  \n",
       "24                         NaN  \n",
       "25                         NaN  \n",
       "26                         NaN  \n",
       "27                         NaN  \n",
       "28                         NaN  \n",
       "29                         NaN  \n",
       "...                        ...  \n",
       "4104                       NaN  \n",
       "4105                       NaN  \n",
       "4106                       NaN  \n",
       "4107                       NaN  \n",
       "4108                       NaN  \n",
       "4109                       NaN  \n",
       "4110                       NaN  \n",
       "4111                       NaN  \n",
       "4112                       NaN  \n",
       "4113                       NaN  \n",
       "4114                       NaN  \n",
       "4115                       NaN  \n",
       "4116                       NaN  \n",
       "4117                   cc0-1.0  \n",
       "4118                   cc0-1.0  \n",
       "4119                       NaN  \n",
       "4120                       NaN  \n",
       "4121                       NaN  \n",
       "4122                       NaN  \n",
       "4123                       NaN  \n",
       "4124                       NaN  \n",
       "4125                       NaN  \n",
       "4126                       NaN  \n",
       "4127                       NaN  \n",
       "4128                       NaN  \n",
       "4129                       NaN  \n",
       "4130                       NaN  \n",
       "4131                       NaN  \n",
       "4132                       NaN  \n",
       "4133                       NaN  \n",
       "\n",
       "[4134 rows x 28 columns]>"
      ]
     },
     "execution_count": 13,
     "metadata": {},
     "output_type": "execute_result"
    }
   ],
   "source": [
    "bag.describe"
   ]
  },
  {
   "cell_type": "code",
   "execution_count": 14,
   "metadata": {},
   "outputs": [
    {
     "data": {
      "text/plain": [
       "<bound method DataFrame.info of           QC  Survey                    Bag File Name              Reviewer  \\\n",
       "0        NaN  D00137           D00137_MB_5m_MLLW_1of1  alessandra.ditommaso   \n",
       "1      Peter  D00140           D00140_VB_5m_MLLW_1of1       scarlett.Duncan   \n",
       "2      Peter  D00141           D00141_VB_4m_MLLW_1of1       Hannah.Berkimer   \n",
       "3      Peter  D00142           D00142_VB_5m_MLLW_1of1       scarlett.Duncan   \n",
       "4        NaN  D00149       D00149_MB_1m_MLLW_1of1.bag          robert.short   \n",
       "5      Peter  D00151           D00151_MB_1m_MLLW_1of2          adam.argento   \n",
       "6      Peter  D00151           D00151_VB_4m_MLLW_2of2          adam.argento   \n",
       "7      Peter  D00151     D00151_MBVB_4m_MLLW_Combined          adam.argento   \n",
       "8      Peter  D00158           D00158_MB_VR_MLLW_2of2          adam.argento   \n",
       "9      Peter  D00158           D00158_MB_4m_MLLW_1of2          adam.argento   \n",
       "10       NaN  D00159           D00159_MB_1m_MLLW_1of1          adam.argento   \n",
       "11       NaN  D00162           D00162_VB_4m_MLLW_1of1            kurt.brown   \n",
       "12       NaN  D00166           D00166_VB_1m_MLLW_1of1  alessandra.ditommaso   \n",
       "13       NaN  D00173         D00173_MB_50cm_MLLW_1of1            kurt.brown   \n",
       "14       NaN  D00173    D00173_MB_50cm_Ellipsoid_1of1            kurt.brown   \n",
       "15       NaN  D00176       D00176_VB_4m_MLLW_1of1.bag        peter.holmberg   \n",
       "16       NaN  D00177     D00177_MB_50cm_MLLW_1of1.bag           katie.reser   \n",
       "17       NaN  D00178     D00178_MB_50cm_MLLW_1of1.bag       brendan.guthrie   \n",
       "18       NaN  D00180     D00180_MB_50cm_MLLW_1of1.bag          robert.short   \n",
       "19       NaN  D00181     D00181_MB_50cm_MLLW_1of1.bag       brendan.guthrie   \n",
       "20       NaN  D00185      D00185_MB_16m_MLLW_3of3.bag          robert.short   \n",
       "21       NaN  D00185       D00185_MB_4m_MLLW_1of3.bag          robert.short   \n",
       "22       NaN  D00185       D00185_MB_8m_MLLW_2of3.bag      kr, robert.short   \n",
       "23       NaN  D00185      D00185_MB_16m_MLLW_Combined      kr, robert.short   \n",
       "24       NaN  D00193       D00193_MB_1m_MLLW_1of1.bag         julia.wallace   \n",
       "25       NaN  D00193  D00193_MB_1m_Ellipsoid_1of1.bag         julia.wallace   \n",
       "26       NaN  D00195       D00195_VB_4m_MLLW_1of1.bag            kurt.brown   \n",
       "27       NaN  D00201     D00201_MB_50cm_MLLW_1of1.bag  alessandra.ditommaso   \n",
       "28    Meghan  D00202         D00202_MB_50cm_MLLW_1of1           ariel.colby   \n",
       "29       NaN  D00206         D00206_MB_50cm_MLLW_1of1        peter.holmberg   \n",
       "...      ...     ...                              ...                   ...   \n",
       "4104     NaN  H13275           H13275_MB_VR_Ellipsoid    daniel.r.devereaux   \n",
       "4105     NaN  H13209                H13209_MB_VR_MLLW          adam.argento   \n",
       "4106     NaN  H13209           H13209_MB_VR_Ellipsoid          adam.argento   \n",
       "4107     NaN  F00816         F00816_MB_50cm_MLLW_1of2        tyanne.faulkes   \n",
       "4108     NaN  F00816    F00816_MB_50cm_Ellipsoid_1of2        tyanne.faulkes   \n",
       "4109     NaN  F00816         F00816_MB_50cm_MLLW_2of2        tyanne.faulkes   \n",
       "4110     NaN  F00816    F00816_MB_50cm_Ellipsoid_2of2        tyanne.faulkes   \n",
       "4111     NaN  F00781         F00781_MB_50cm_MLLW_1of1          adam.argento   \n",
       "4112     NaN  F00781    F00781_MB_50cm_Ellipsoid_1of1          adam.argento   \n",
       "4113     NaN  H12518            H12518_MB_VR_MLLW.bag       Veronique.Jegat   \n",
       "4114   Peter  H12202            H12202_MB_2m_MLLW.bag        fernando.ortiz   \n",
       "4115     NaN  H11127            H11127_MB_VR_MLLW.bag           Kari.Gehrke   \n",
       "4116     NaN  H11127            H11127_VB_4m_MLLW.bag           Kari.Gehrke   \n",
       "4117  Meghan  W00380          W00380_MB_16m_MLLW_1of1         julia.wallace   \n",
       "4118  Meghan  W00380     W00380_MB_16m_Ellipsoid_1of1         julia.wallace   \n",
       "4119     NaN  H12203           H12203_MB_2m_MLLW_1of2        Fernando.ortiz   \n",
       "4120     NaN  H12203         H12203_MB_50cm_MLLW_1of2        Fernando.ortiz   \n",
       "4121     NaN  H13012       H13012_MB_1m_MLLW_1of4.bag           Rita.bowker   \n",
       "4122     NaN  H13012       H13012_MB_2m_MLLW_2of4.bag           Rita.bowker   \n",
       "4123     NaN  H13012       H13012_MB_4m_MLLW_3of4.bag           Rita.bowker   \n",
       "4124     NaN  H13012       H13012_LI_5m_MLLW_4of4.bag           Rita.bowker   \n",
       "4125     NaN  H13012  H13012_LI_5m_Ellipsoid_1of1.bag           Rita.bowker   \n",
       "4126     NaN  H12177                H12177_MB_VR_MLLW         Kelly.Simmons   \n",
       "4127     NaN  H13080           H13080_MB_4m_MLLW_1of1                snoopy   \n",
       "4128     NaN  H12176            H12176_MB_VR_MLLW.bag    Kartik.Thammisetti   \n",
       "4129     NaN  H11822            H11822_MB_VR_MLLW.bag            Martyn Day   \n",
       "4130     NaN  H13224           H13224_MB_1m_MLLW_1of1        bryan chauveau   \n",
       "4131     NaN  H13224      H13224_MB_1m_Ellipsoid_1of1        bryan chauveau   \n",
       "4132     NaN  H13324                H13324_MB_VR_MLLW            kurt.brown   \n",
       "4133     NaN  H13324           H13324_MB_VR_Ellipsoid            kurt.brown   \n",
       "\n",
       "     MCD Branch Sensitive? (Y/N) Survey Start Date Survey End Date  \\\n",
       "0           PBG                N         1/13/2005       4/21/2005   \n",
       "1           PBG                N          7/2/2008      12/19/2008   \n",
       "2           PBG                N          7/4/2008      12/19/2008   \n",
       "3           PBG                N         7/14/2008       1/30/2009   \n",
       "4           PBC                N         9/30/2009       9/30/2009   \n",
       "5           PBE                N        11/14/2009      11/16/2009   \n",
       "6           PBE                N        11/14/2009      11/16/2009   \n",
       "7           PBE                N        11/14/2009      11/16/2009   \n",
       "8           PBE                N          6/5/2011        6/8/2011   \n",
       "9           PBE                N          6/5/2011        6/8/2011   \n",
       "10          PBE                N         8/29/2011       8/30/2011   \n",
       "11          PBE                N         4/25/2011       5/31/2011   \n",
       "12          PBG                N          5/1/2012        5/3/2012   \n",
       "13          PBE                N        10/31/2012      10/31/2012   \n",
       "14          PBE                N        10/31/2012      10/31/2012   \n",
       "15          PBC                N          5/8/2012       5/11/2012   \n",
       "16          PBC                N          4/7/2013        4/8/2013   \n",
       "17          PBC                N        04/10/2013       4/29/2013   \n",
       "18          PBC                N         4/10/2013       4/24/2013   \n",
       "19          PBC                N         4/10/2013       4/24/2013   \n",
       "20          PBC                N         8/20/2013       9/13/2013   \n",
       "21          PBC                N         8/20/2013       9/13/2013   \n",
       "22          PBC                N         8/20/2013       9/13/2013   \n",
       "23          PBC                N         8/20/2013       9/13/2013   \n",
       "24          PBB                N         4/13/2015       4/14/2015   \n",
       "25          PBB                N         4/13/2015       4/14/2015   \n",
       "26          PBC                N          3/6/2015        3/6/2015   \n",
       "27          PBB                N          9/8/2015        9/8/2015   \n",
       "28          PBG                N        10/19/2015      10/20/2015   \n",
       "29          PBE                N         2/12/2016       2/12/2016   \n",
       "...         ...              ...               ...             ...   \n",
       "4104        PBD                N         8/20/2019       8/26/2019   \n",
       "4105        PBD                N         10/4/2019      10/14/2019   \n",
       "4106        PBD                N         10/4/2019      10/14/2019   \n",
       "4107        PBG                N          9/1/2020        9/2/2020   \n",
       "4108        PBG                N          9/1/2020        9/2/2020   \n",
       "4109        PBG                N          9/1/2020        9/2/2020   \n",
       "4110        PBG                N          9/1/2020        9/2/2020   \n",
       "4111        PBG                N         9/23/2019       10/1/2019   \n",
       "4112        PBG                N         9/23/2019       10/1/2019   \n",
       "4113        PBA                N          5/9/2013       6/18/2013   \n",
       "4114        PBE                N         10/5/2010      10/20/2010   \n",
       "4115        PBA                N         5/27/2006       6/25/2006   \n",
       "4116        PBA                N         6/13/2006       6/25/2006   \n",
       "4117        PBB                N         9/11/2014       9/11/2014   \n",
       "4118        PBB                N         9/11/2014       9/11/2014   \n",
       "4119        PBE                N        10/12/2010      10/26/2010   \n",
       "4120        PBE                N        10/12/2010      10/26/2010   \n",
       "4121        PBC                N         6/26/2017       10/7/2017   \n",
       "4122        PBC                N         6/26/2017       10/7/2017   \n",
       "4123        PBC                N         6/26/2017       10/7/2017   \n",
       "4124        PBC                N         6/26/2017       10/7/2017   \n",
       "4125        PBC                N         6/26/2017       10/7/2017   \n",
       "4126        PBA                N          5/5/2010       5/24/2010   \n",
       "4127        PBF                N         1/31/2021       1/16/2021   \n",
       "4128        PBA                N          5/9/2010       5/22/2010   \n",
       "4129        PBA                N        10/24/2008      11/13/2008   \n",
       "4130        PBG                N          6/8/2019       8/29/2019   \n",
       "4131        PBG                N          6/8/2019       8/29/2019   \n",
       "4132        PBD                N        10/17/2019      10/23/2019   \n",
       "4133        PBD                N        10/23/2019      10/23/2019   \n",
       "\n",
       "     Source data type (MBES) Source data type (SSS)  ...  \\\n",
       "0                       MBES                    NaN  ...   \n",
       "1                        NaN                    NaN  ...   \n",
       "2                        NaN                    NaN  ...   \n",
       "3                        NaN                    NaN  ...   \n",
       "4                       MBES                    NaN  ...   \n",
       "5                       MBES                    NaN  ...   \n",
       "6                        NaN                    SSS  ...   \n",
       "7                       MBES                    SSS  ...   \n",
       "8                       MBES                    NaN  ...   \n",
       "9                       MBES                    NaN  ...   \n",
       "10                      MBES                    SSS  ...   \n",
       "11                       NaN                    NaN  ...   \n",
       "12                       NaN                    SSS  ...   \n",
       "13                      MBES                    NaN  ...   \n",
       "14                      MBES                    NaN  ...   \n",
       "15                       NaN                    NaN  ...   \n",
       "16                      MBES                    NaN  ...   \n",
       "17                      MBES                    SSS  ...   \n",
       "18                      MBES                    SSS  ...   \n",
       "19                      MBES                    NaN  ...   \n",
       "20                      MBES                    NaN  ...   \n",
       "21                      MBES                    NaN  ...   \n",
       "22                      MBES                    NaN  ...   \n",
       "23                      MBES                    NaN  ...   \n",
       "24                      MBES                    NaN  ...   \n",
       "25                      MBES                    NaN  ...   \n",
       "26                       NaN                    SSS  ...   \n",
       "27                      MBES                    NaN  ...   \n",
       "28                      MBES                    SSS  ...   \n",
       "29                      MBES                    NaN  ...   \n",
       "...                      ...                    ...  ...   \n",
       "4104                    MBES                    NaN  ...   \n",
       "4105                    MBES                    NaN  ...   \n",
       "4106                    MBES                    NaN  ...   \n",
       "4107                    MBES                    SSS  ...   \n",
       "4108                    MBES                    SSS  ...   \n",
       "4109                    MBES                    SSS  ...   \n",
       "4110                    MBES                    SSS  ...   \n",
       "4111                    MBES                    SSS  ...   \n",
       "4112                    MBES                    SSS  ...   \n",
       "4113                    MBES                    NaN  ...   \n",
       "4114                    MBES                    SSS  ...   \n",
       "4115                    MBES                    NaN  ...   \n",
       "4116                     NaN                    NaN  ...   \n",
       "4117                    MBES                    NaN  ...   \n",
       "4118                    MBES                    NaN  ...   \n",
       "4119                    MBES                    SSS  ...   \n",
       "4120                    MBES                    SSS  ...   \n",
       "4121                    MBES                    NaN  ...   \n",
       "4122                    MBES                    NaN  ...   \n",
       "4123                    MBES                    NaN  ...   \n",
       "4124                      LI                    NaN  ...   \n",
       "4125                      LI                    NaN  ...   \n",
       "4126                    MBES                    NaN  ...   \n",
       "4127                       Y                    SSS  ...   \n",
       "4128                    MBES                    NaN  ...   \n",
       "4129                    MBES                    NaN  ...   \n",
       "4130                    MBES                    SSS  ...   \n",
       "4131                    MBES                    SSS  ...   \n",
       "4132                    MBES                    NaN  ...   \n",
       "4133                    MBES                    NaN  ...   \n",
       "\n",
       "     Vertical Uncertainty (fixed) Vertical Uncertainty (variable)  \\\n",
       "0                            50cm                             1%d   \n",
       "1                            50cm                             1%d   \n",
       "2                            50cm                             1%d   \n",
       "3                            50cm                             1%d   \n",
       "4                            50cm                             1%d   \n",
       "5                              2m                             5%d   \n",
       "6                              2m                             5%d   \n",
       "7                              2m                             5%d   \n",
       "8                              2m                             5%d   \n",
       "9                              1m                             2%d   \n",
       "10                           50cm                             1%d   \n",
       "11                           50cm                             1%d   \n",
       "12                           50cm                             1%d   \n",
       "13                           50cm                             1%d   \n",
       "14                           50cm                             1%d   \n",
       "15                             1m                             2%d   \n",
       "16                           50cm                             1%d   \n",
       "17                           50cm                             1%d   \n",
       "18                           50cm                             1%d   \n",
       "19                           50cm                             1%d   \n",
       "20                           50cm                             1%d   \n",
       "21                           50cm                             1%d   \n",
       "22                           50cm                             1%d   \n",
       "23                           50cm                             1%d   \n",
       "24                             1m                             2%d   \n",
       "25                             1m                             2%d   \n",
       "26                             2m                             5%d   \n",
       "27                           50cm                             1%d   \n",
       "28                           50cm                             1%d   \n",
       "29                           50cm                             1%d   \n",
       "...                           ...                             ...   \n",
       "4104                         50cm                             1%d   \n",
       "4105                         50cm                             1%d   \n",
       "4106                         50cm                             1%d   \n",
       "4107                         50cm                             1%d   \n",
       "4108                         50cm                             1%d   \n",
       "4109                         50cm                             1%d   \n",
       "4110                         50cm                             1%d   \n",
       "4111                         50cm                             1%d   \n",
       "4112                         50cm                             1%d   \n",
       "4113                         50cm                             1%d   \n",
       "4114                         50cm                             1%d   \n",
       "4115                         50cm                             1%d   \n",
       "4116                           1m                             2%d   \n",
       "4117                           1m                             2%d   \n",
       "4118                           1m                             2%d   \n",
       "4119                         50cm                              1%   \n",
       "4120                         50cm                              1%   \n",
       "4121                         50cm                              1%   \n",
       "4122                         50cm                              1%   \n",
       "4123                         50cm                              1%   \n",
       "4124                           1m                             2%d   \n",
       "4125                           1m                             2%d   \n",
       "4126                         50cm                             1%d   \n",
       "4127                           5m                             5%d   \n",
       "4128                         50cm                             1%d   \n",
       "4129                         50cm                             1%d   \n",
       "4130                           1m                             1%d   \n",
       "4131                           1m                             1%d   \n",
       "4132                           1m                             1%d   \n",
       "4133                           1m                             1%d   \n",
       "\n",
       "     Horizontal datum Vertical datum  \\\n",
       "0       WGS84 UTM 15N           MLLW   \n",
       "1       NAD83 UTM 16N           MLLW   \n",
       "2       NAD83 UTM 16N           MLLW   \n",
       "3       NAD83 UTM 16N           MLLW   \n",
       "4       WGS84 UTM 19N           MLLW   \n",
       "5       WGS84 UTM 18N           MLLW   \n",
       "6       WGS84 UTM 18N           MLLW   \n",
       "7       WGS84 UTM 18N           MLLW   \n",
       "8       WGS84 UTM 17N           MLLW   \n",
       "9       NAD83 UTM 18N           MLLW   \n",
       "10      WGS84 UTM 18N           MLLW   \n",
       "11       NAD83 UTM18N           MLLW   \n",
       "12      NAD83 UTM 16N           MLLW   \n",
       "13       NAD83 UTM17N           MLLW   \n",
       "14       NAD83 UTM17N      Ellipsoid   \n",
       "15      NAD83 UTM 19N           MLLW   \n",
       "16      NAD83 UTM 18N           MLLW   \n",
       "17      NAD83 UTM 18N           MLLW   \n",
       "18      NAD83 UTM 18N           MLLW   \n",
       "19      NAD83 UTM 18N           MLLW   \n",
       "20      NAD83 UTM 19N           MLLW   \n",
       "21      NAD83 UTM 19N           MLLW   \n",
       "22      NAD83 UTM 19N           MLLW   \n",
       "23      NAD83 UTM 19N           MLLW   \n",
       "24      NAD83 UTM 18N           MLLW   \n",
       "25      NAD83 UTM 18N      Ellipsoid   \n",
       "26      NAD83 UTM 19N           MLLW   \n",
       "27      NAD83 UTM 17N           MLLW   \n",
       "28      NAD83 UTM 15N           MLLW   \n",
       "29       NAD83 UTM18N           MLLW   \n",
       "...               ...            ...   \n",
       "4104     NAD83 UTM 4N      Ellipsoid   \n",
       "4105    NAD83 UTM 11N           MLLW   \n",
       "4106    NAD83 UTM 11N      Ellipsoid   \n",
       "4107    NAD83 UTM 15N           MLLW   \n",
       "4108    NAD83 UTM 15N      Ellipsoid   \n",
       "4109    NAD83 UTM 15N           MLLW   \n",
       "4110    NAD83 UTM 15N      Ellipsoid   \n",
       "4111    NAD83 UTM 16N           MLLW   \n",
       "4112    NAD83 UTM 16N      Ellipsoid   \n",
       "4113     NAD83 UTM 9N           MLLW   \n",
       "4114    NAD83 UTM 18N           MLLW   \n",
       "4115     NAD83 UTM 8N           MLLW   \n",
       "4116     NAD83 UTM 8N           MLLW   \n",
       "4117    NAD83 UTM 17N           MLLW   \n",
       "4118    NAD83 UTM 17N      Ellipsoid   \n",
       "4119    NAD83 UTM 18N           MLLW   \n",
       "4120     NAD83 UTM18N           MLLW   \n",
       "4121            WGS84           MLLW   \n",
       "4122            WGS84           MLLW   \n",
       "4123            WGS84           MLLW   \n",
       "4124            WGS84           MLLW   \n",
       "4125            WGS84      Ellipsoid   \n",
       "4126     NAD83 UTM 9N           MLLW   \n",
       "4127             50cm            1%d   \n",
       "4128     NAD83 UTM 9N           MLLW   \n",
       "4129     NAD83 UTM 8N           MLLW   \n",
       "4130    NAD83 UTM 14N           MLLW   \n",
       "4131    NAD83 UTM 14N      Ellipsoid   \n",
       "4132    NAD83 UTM 11N           MLLW   \n",
       "4133    NAD83 UTM 11N      Ellipsoid   \n",
       "\n",
       "                                                   Note  \\\n",
       "0                                                   NaN   \n",
       "1                                                   NaN   \n",
       "2                                                   NaN   \n",
       "3                                                   NaN   \n",
       "4                                                   NaN   \n",
       "5                                                   NaN   \n",
       "6                                                   NaN   \n",
       "7                                                   NaN   \n",
       "8                           Combined BAG not applicable   \n",
       "9                           Combined BAG not applicable   \n",
       "10                                                  NaN   \n",
       "11                    Bad GPS system documented in Memo   \n",
       "12                                                  NaN   \n",
       "13                                                  NaN   \n",
       "14                                                  NaN   \n",
       "15                                                  NaN   \n",
       "16                                                  NaN   \n",
       "17    D00178_DR: Multibeam Echo Sounder and Sidescan...   \n",
       "18    D00180_DR: Multibeam Echo Sounder and Sidescan...   \n",
       "19                                                  NaN   \n",
       "20                                                  NaN   \n",
       "21                                                  NaN   \n",
       "22                                                  NaN   \n",
       "23                                                  NaN   \n",
       "24                                                  NaN   \n",
       "25                                                  NaN   \n",
       "26                                                  NaN   \n",
       "27                                                  NaN   \n",
       "28                    NRT Houston Ship Channel response   \n",
       "29                                                  NaN   \n",
       "...                                                 ...   \n",
       "4104                                                NaN   \n",
       "4105                                                NaN   \n",
       "4106                                                NaN   \n",
       "4107                                                NaN   \n",
       "4108                                                NaN   \n",
       "4109                                                NaN   \n",
       "4110                                                NaN   \n",
       "4111                                                NaN   \n",
       "4112                                                NaN   \n",
       "4113                                                NaN   \n",
       "4114                                                NaN   \n",
       "4115                                                NaN   \n",
       "4116                                                NaN   \n",
       "4117                                                NaN   \n",
       "4118                                                NaN   \n",
       "4119                                                NaN   \n",
       "4120                                                NaN   \n",
       "4121                                 Survey is in WGS84   \n",
       "4122                                 Survey is in WGS84   \n",
       "4123                                 Survey is in WGS84   \n",
       "4124                                 Survey is in WGS84   \n",
       "4125                                 Survey is in WGS84   \n",
       "4126                                                NaN   \n",
       "4127                                      WGS84 UTM 16N   \n",
       "4128                                                NaN   \n",
       "4129                                                NaN   \n",
       "4130                                                NaN   \n",
       "4131                                                NaN   \n",
       "4132                                                NaN   \n",
       "4133                                                NaN   \n",
       "\n",
       "                                      Responsible Party Point of Contact  \\\n",
       "0                                                   NaN              NaN   \n",
       "1                                                   NaN              NaN   \n",
       "2                                                   NaN              NaN   \n",
       "3                                                   NaN              NaN   \n",
       "4                                                   NaN              NaN   \n",
       "5                                                   NaN              NaN   \n",
       "6                                                   NaN              NaN   \n",
       "7                                                   NaN              NaN   \n",
       "8                                                   NaN              NaN   \n",
       "9                                                   NaN              NaN   \n",
       "10                                                  NaN              NaN   \n",
       "11                                                  NaN              NaN   \n",
       "12                                                  NaN              NaN   \n",
       "13                                                  NaN              NaN   \n",
       "14                                                  NaN              NaN   \n",
       "15                                                  NaN              NaN   \n",
       "16                                                  NaN              NaN   \n",
       "17                                                  NaN              NaN   \n",
       "18                                                  NaN              NaN   \n",
       "19                                                  NaN              NaN   \n",
       "20                                                  NaN              NaN   \n",
       "21                                                  NaN              NaN   \n",
       "22                                                  NaN              NaN   \n",
       "23                                                  NaN              NaN   \n",
       "24                                                  NaN              NaN   \n",
       "25                                                  NaN              NaN   \n",
       "26                                                  NaN              NaN   \n",
       "27                                                  NaN              NaN   \n",
       "28                                                  NaN              NaN   \n",
       "29                                                  NaN              NaN   \n",
       "...                                                 ...              ...   \n",
       "4104                                                NaN              NaN   \n",
       "4105                                                NaN              NaN   \n",
       "4106                                                NaN              NaN   \n",
       "4107                                                NaN              NaN   \n",
       "4108                                                NaN              NaN   \n",
       "4109                                                NaN              NaN   \n",
       "4110                                                NaN              NaN   \n",
       "4111                                                NaN              NaN   \n",
       "4112                                                NaN              NaN   \n",
       "4113                                                NaN              NaN   \n",
       "4114                                                NaN              NaN   \n",
       "4115                                                NaN              NaN   \n",
       "4116                                                NaN              NaN   \n",
       "4117  U.S. EPA Region 4, Science and Ecosystem Suppo...      Mel Parsons   \n",
       "4118  U.S. EPA Region 4, Science and Ecosystem Suppo...      Mel Parsons   \n",
       "4119                                                NaN              NaN   \n",
       "4120                                                NaN              NaN   \n",
       "4121                                                NaN              NaN   \n",
       "4122                                                NaN              NaN   \n",
       "4123                                                NaN              NaN   \n",
       "4124                                                NaN              NaN   \n",
       "4125                                                NaN              NaN   \n",
       "4126                                                NaN              NaN   \n",
       "4127                                               LWRP              NaN   \n",
       "4128                                                NaN              NaN   \n",
       "4129                                                NaN              NaN   \n",
       "4130                                               MLLW              NaN   \n",
       "4131                                                NaN              NaN   \n",
       "4132                                                NaN              NaN   \n",
       "4133                                                NaN              NaN   \n",
       "\n",
       "            Email Address                                    Online Resource  \\\n",
       "0                     NaN                                                NaN   \n",
       "1                     NaN                                                NaN   \n",
       "2                     NaN                                                NaN   \n",
       "3                     NaN                                                NaN   \n",
       "4                     NaN                                                NaN   \n",
       "5                     NaN                                                NaN   \n",
       "6                     NaN                                                NaN   \n",
       "7                     NaN                                                NaN   \n",
       "8                     NaN                                                NaN   \n",
       "9                     NaN                                                NaN   \n",
       "10                    NaN                                                NaN   \n",
       "11                    NaN                                                NaN   \n",
       "12                    NaN                                                NaN   \n",
       "13                    NaN                                                NaN   \n",
       "14                    NaN                                                NaN   \n",
       "15                    NaN                                                NaN   \n",
       "16                    NaN                                                NaN   \n",
       "17                    NaN                                                NaN   \n",
       "18                    NaN                                                NaN   \n",
       "19                    NaN                                                NaN   \n",
       "20                    NaN                                                NaN   \n",
       "21                    NaN                                                NaN   \n",
       "22                    NaN                                                NaN   \n",
       "23                    NaN                                                NaN   \n",
       "24                    NaN                                                NaN   \n",
       "25                    NaN                                                NaN   \n",
       "26                    NaN                                                NaN   \n",
       "27                    NaN                                                NaN   \n",
       "28                    NaN                                                NaN   \n",
       "29                    NaN                                                NaN   \n",
       "...                   ...                                                ...   \n",
       "4104                  NaN                                                NaN   \n",
       "4105                  NaN                                                NaN   \n",
       "4106                  NaN                                                NaN   \n",
       "4107                  NaN                                                NaN   \n",
       "4108                  NaN                                                NaN   \n",
       "4109                  NaN                                                NaN   \n",
       "4110                  NaN                                                NaN   \n",
       "4111                  NaN                                                NaN   \n",
       "4112                  NaN                                                NaN   \n",
       "4113                  NaN                                                NaN   \n",
       "4114                  NaN                                                NaN   \n",
       "4115                  NaN                                                NaN   \n",
       "4116                  NaN                                                NaN   \n",
       "4117  Parsons.mel@epa.gov  https://www.ngdc.noaa.gov/ships/nancy_foster/N...   \n",
       "4118  Parsons.mel@epa.gov  https://www.ngdc.noaa.gov/ships/nancy_foster/N...   \n",
       "4119                  NaN                                                NaN   \n",
       "4120                  NaN                                                NaN   \n",
       "4121                  NaN                                                NaN   \n",
       "4122                  NaN                                                NaN   \n",
       "4123                  NaN                                                NaN   \n",
       "4124                  NaN                                                NaN   \n",
       "4125                  NaN                                                NaN   \n",
       "4126                  NaN                                                NaN   \n",
       "4127                  NaN                                                NaN   \n",
       "4128                  NaN                                                NaN   \n",
       "4129                  NaN                                                NaN   \n",
       "4130                  NaN                                                NaN   \n",
       "4131                  NaN                                                NaN   \n",
       "4132                  NaN                                                NaN   \n",
       "4133                  NaN                                                NaN   \n",
       "\n",
       "     Legal Constraint: License  \n",
       "0                          NaN  \n",
       "1                          NaN  \n",
       "2                          NaN  \n",
       "3                          NaN  \n",
       "4                          NaN  \n",
       "5                          NaN  \n",
       "6                          NaN  \n",
       "7                          NaN  \n",
       "8                          NaN  \n",
       "9                          NaN  \n",
       "10                         NaN  \n",
       "11                         NaN  \n",
       "12                         NaN  \n",
       "13                         NaN  \n",
       "14                         NaN  \n",
       "15                         NaN  \n",
       "16                         NaN  \n",
       "17                         NaN  \n",
       "18                         NaN  \n",
       "19                         NaN  \n",
       "20                         NaN  \n",
       "21                         NaN  \n",
       "22                         NaN  \n",
       "23                         NaN  \n",
       "24                         NaN  \n",
       "25                         NaN  \n",
       "26                         NaN  \n",
       "27                         NaN  \n",
       "28                         NaN  \n",
       "29                         NaN  \n",
       "...                        ...  \n",
       "4104                       NaN  \n",
       "4105                       NaN  \n",
       "4106                       NaN  \n",
       "4107                       NaN  \n",
       "4108                       NaN  \n",
       "4109                       NaN  \n",
       "4110                       NaN  \n",
       "4111                       NaN  \n",
       "4112                       NaN  \n",
       "4113                       NaN  \n",
       "4114                       NaN  \n",
       "4115                       NaN  \n",
       "4116                       NaN  \n",
       "4117                   cc0-1.0  \n",
       "4118                   cc0-1.0  \n",
       "4119                       NaN  \n",
       "4120                       NaN  \n",
       "4121                       NaN  \n",
       "4122                       NaN  \n",
       "4123                       NaN  \n",
       "4124                       NaN  \n",
       "4125                       NaN  \n",
       "4126                       NaN  \n",
       "4127                       NaN  \n",
       "4128                       NaN  \n",
       "4129                       NaN  \n",
       "4130                       NaN  \n",
       "4131                       NaN  \n",
       "4132                       NaN  \n",
       "4133                       NaN  \n",
       "\n",
       "[4134 rows x 28 columns]>"
      ]
     },
     "execution_count": 14,
     "metadata": {},
     "output_type": "execute_result"
    }
   ],
   "source": [
    "bag.info"
   ]
  },
  {
   "cell_type": "code",
   "execution_count": 17,
   "metadata": {},
   "outputs": [
    {
     "data": {
      "text/plain": [
       "Index(['QC', 'Survey', 'Bag File Name', 'Reviewer', 'MCD Branch',\n",
       "       'Sensitive? (Y/N)', 'Survey Start Date', 'Survey End Date',\n",
       "       'Source data type (MBES)', 'Source data type (SSS)',\n",
       "       'Source data type (VB)', 'Full Coverage Achieved (Y/N)',\n",
       "       'Full bathymetric coverage achieved (Y/N)',\n",
       "       'Features detection requirements met (Y/N)',\n",
       "       'Least depth of features detected (Y/N)',\n",
       "       'Size of features detected (m)',\n",
       "       'Horizontal position uncertainty (fixed)',\n",
       "       'Horizontal position uncertainty (variable)',\n",
       "       'Vertical Uncertainty (fixed)', 'Vertical Uncertainty (variable)',\n",
       "       'Horizontal datum', 'Vertical datum', 'Note', 'Responsible Party',\n",
       "       'Point of Contact', 'Email Address', 'Online Resource',\n",
       "       'Legal Constraint: License'],\n",
       "      dtype='object')"
      ]
     },
     "execution_count": 17,
     "metadata": {},
     "output_type": "execute_result"
    }
   ],
   "source": [
    "bag.columns"
   ]
  },
  {
   "cell_type": "code",
   "execution_count": 18,
   "metadata": {},
   "outputs": [
    {
     "data": {
      "text/plain": [
       "0       NaN\n",
       "1       NaN\n",
       "2       NaN\n",
       "3       NaN\n",
       "4         2\n",
       "5       NaN\n",
       "6       NaN\n",
       "7       NaN\n",
       "8       NaN\n",
       "9         8\n",
       "10      NaN\n",
       "11      NaN\n",
       "12        2\n",
       "13       1m\n",
       "14       1m\n",
       "15      NaN\n",
       "16      NaN\n",
       "17      NaN\n",
       "18       2m\n",
       "19      NaN\n",
       "20      NaN\n",
       "21      NaN\n",
       "22      NaN\n",
       "23      NaN\n",
       "24      NaN\n",
       "25      NaN\n",
       "26      NaN\n",
       "27        1\n",
       "28        1\n",
       "29      NaN\n",
       "       ... \n",
       "4104      2\n",
       "4105      2\n",
       "4106      2\n",
       "4107     1m\n",
       "4108     1m\n",
       "4109    NaN\n",
       "4110    NaN\n",
       "4111      1\n",
       "4112      1\n",
       "4113      2\n",
       "4114      4\n",
       "4115      2\n",
       "4116      8\n",
       "4117     32\n",
       "4118     32\n",
       "4119      4\n",
       "4120      1\n",
       "4121      2\n",
       "4122      4\n",
       "4123      8\n",
       "4124     10\n",
       "4125     10\n",
       "4126      2\n",
       "4127      N\n",
       "4128      2\n",
       "4129      2\n",
       "4130      2\n",
       "4131      2\n",
       "4132      2\n",
       "4133      2\n",
       "Name: Size of features detected (m), Length: 4134, dtype: object"
      ]
     },
     "execution_count": 18,
     "metadata": {},
     "output_type": "execute_result"
    }
   ],
   "source": [
    "bag['Size of features detected (m)']"
   ]
  },
  {
   "cell_type": "code",
   "execution_count": 20,
   "metadata": {},
   "outputs": [
    {
     "ename": "ValueError",
     "evalue": "Vertical Uncertainty (fixed) is an unknown string function",
     "output_type": "error",
     "traceback": [
      "\u001b[1;31m---------------------------------------------------------------------------\u001b[0m",
      "\u001b[1;31mValueError\u001b[0m                                Traceback (most recent call last)",
      "\u001b[1;32m<ipython-input-20-3e0b3fb84012>\u001b[0m in \u001b[0;36m<module>\u001b[1;34m\u001b[0m\n\u001b[1;32m----> 1\u001b[1;33m \u001b[0mbag\u001b[0m\u001b[1;33m.\u001b[0m\u001b[0maggregate\u001b[0m\u001b[1;33m(\u001b[0m\u001b[1;34m'Vertical Uncertainty (fixed)'\u001b[0m\u001b[1;33m,\u001b[0m \u001b[0maxis\u001b[0m \u001b[1;33m=\u001b[0m \u001b[1;36m1\u001b[0m\u001b[1;33m)\u001b[0m\u001b[1;33m\u001b[0m\u001b[1;33m\u001b[0m\u001b[0m\n\u001b[0m",
      "\u001b[1;32mC:\\PYDROX~1\\envs\\Pydro367\\lib\\site-packages\\pandas\\core\\frame.py\u001b[0m in \u001b[0;36maggregate\u001b[1;34m(self, func, axis, *args, **kwargs)\u001b[0m\n\u001b[0;32m   6282\u001b[0m         \u001b[0mresult\u001b[0m \u001b[1;33m=\u001b[0m \u001b[1;32mNone\u001b[0m\u001b[1;33m\u001b[0m\u001b[1;33m\u001b[0m\u001b[0m\n\u001b[0;32m   6283\u001b[0m         \u001b[1;32mtry\u001b[0m\u001b[1;33m:\u001b[0m\u001b[1;33m\u001b[0m\u001b[1;33m\u001b[0m\u001b[0m\n\u001b[1;32m-> 6284\u001b[1;33m             \u001b[0mresult\u001b[0m\u001b[1;33m,\u001b[0m \u001b[0mhow\u001b[0m \u001b[1;33m=\u001b[0m \u001b[0mself\u001b[0m\u001b[1;33m.\u001b[0m\u001b[0m_aggregate\u001b[0m\u001b[1;33m(\u001b[0m\u001b[0mfunc\u001b[0m\u001b[1;33m,\u001b[0m \u001b[0maxis\u001b[0m\u001b[1;33m=\u001b[0m\u001b[0maxis\u001b[0m\u001b[1;33m,\u001b[0m \u001b[1;33m*\u001b[0m\u001b[0margs\u001b[0m\u001b[1;33m,\u001b[0m \u001b[1;33m**\u001b[0m\u001b[0mkwargs\u001b[0m\u001b[1;33m)\u001b[0m\u001b[1;33m\u001b[0m\u001b[1;33m\u001b[0m\u001b[0m\n\u001b[0m\u001b[0;32m   6285\u001b[0m         \u001b[1;32mexcept\u001b[0m \u001b[0mTypeError\u001b[0m\u001b[1;33m:\u001b[0m\u001b[1;33m\u001b[0m\u001b[1;33m\u001b[0m\u001b[0m\n\u001b[0;32m   6286\u001b[0m             \u001b[1;32mpass\u001b[0m\u001b[1;33m\u001b[0m\u001b[1;33m\u001b[0m\u001b[0m\n",
      "\u001b[1;32mC:\\PYDROX~1\\envs\\Pydro367\\lib\\site-packages\\pandas\\core\\frame.py\u001b[0m in \u001b[0;36m_aggregate\u001b[1;34m(self, arg, axis, *args, **kwargs)\u001b[0m\n\u001b[0;32m   6294\u001b[0m             \u001b[1;31m# only result\u001b[0m\u001b[1;33m\u001b[0m\u001b[1;33m\u001b[0m\u001b[1;33m\u001b[0m\u001b[0m\n\u001b[0;32m   6295\u001b[0m             result, how = (super(DataFrame, self.T)\n\u001b[1;32m-> 6296\u001b[1;33m                            ._aggregate(arg, *args, **kwargs))\n\u001b[0m\u001b[0;32m   6297\u001b[0m             \u001b[0mresult\u001b[0m \u001b[1;33m=\u001b[0m \u001b[0mresult\u001b[0m\u001b[1;33m.\u001b[0m\u001b[0mT\u001b[0m \u001b[1;32mif\u001b[0m \u001b[0mresult\u001b[0m \u001b[1;32mis\u001b[0m \u001b[1;32mnot\u001b[0m \u001b[1;32mNone\u001b[0m \u001b[1;32melse\u001b[0m \u001b[0mresult\u001b[0m\u001b[1;33m\u001b[0m\u001b[1;33m\u001b[0m\u001b[0m\n\u001b[0;32m   6298\u001b[0m             \u001b[1;32mreturn\u001b[0m \u001b[0mresult\u001b[0m\u001b[1;33m,\u001b[0m \u001b[0mhow\u001b[0m\u001b[1;33m\u001b[0m\u001b[1;33m\u001b[0m\u001b[0m\n",
      "\u001b[1;32mC:\\PYDROX~1\\envs\\Pydro367\\lib\\site-packages\\pandas\\core\\base.py\u001b[0m in \u001b[0;36m_aggregate\u001b[1;34m(self, arg, *args, **kwargs)\u001b[0m\n\u001b[0;32m    354\u001b[0m         \u001b[1;32mif\u001b[0m \u001b[0misinstance\u001b[0m\u001b[1;33m(\u001b[0m\u001b[0marg\u001b[0m\u001b[1;33m,\u001b[0m \u001b[0mcompat\u001b[0m\u001b[1;33m.\u001b[0m\u001b[0mstring_types\u001b[0m\u001b[1;33m)\u001b[0m\u001b[1;33m:\u001b[0m\u001b[1;33m\u001b[0m\u001b[1;33m\u001b[0m\u001b[0m\n\u001b[0;32m    355\u001b[0m             return self._try_aggregate_string_function(arg, *args,\n\u001b[1;32m--> 356\u001b[1;33m                                                        **kwargs), None\n\u001b[0m\u001b[0;32m    357\u001b[0m \u001b[1;33m\u001b[0m\u001b[0m\n\u001b[0;32m    358\u001b[0m         \u001b[1;32mif\u001b[0m \u001b[0misinstance\u001b[0m\u001b[1;33m(\u001b[0m\u001b[0marg\u001b[0m\u001b[1;33m,\u001b[0m \u001b[0mdict\u001b[0m\u001b[1;33m)\u001b[0m\u001b[1;33m:\u001b[0m\u001b[1;33m\u001b[0m\u001b[1;33m\u001b[0m\u001b[0m\n",
      "\u001b[1;32mC:\\PYDROX~1\\envs\\Pydro367\\lib\\site-packages\\pandas\\core\\base.py\u001b[0m in \u001b[0;36m_try_aggregate_string_function\u001b[1;34m(self, arg, *args, **kwargs)\u001b[0m\n\u001b[0;32m    323\u001b[0m             \u001b[1;32mreturn\u001b[0m \u001b[0mf\u001b[0m\u001b[1;33m(\u001b[0m\u001b[0mself\u001b[0m\u001b[1;33m,\u001b[0m \u001b[1;33m*\u001b[0m\u001b[0margs\u001b[0m\u001b[1;33m,\u001b[0m \u001b[1;33m**\u001b[0m\u001b[0mkwargs\u001b[0m\u001b[1;33m)\u001b[0m\u001b[1;33m\u001b[0m\u001b[1;33m\u001b[0m\u001b[0m\n\u001b[0;32m    324\u001b[0m \u001b[1;33m\u001b[0m\u001b[0m\n\u001b[1;32m--> 325\u001b[1;33m         \u001b[1;32mraise\u001b[0m \u001b[0mValueError\u001b[0m\u001b[1;33m(\u001b[0m\u001b[1;34m\"{arg} is an unknown string function\"\u001b[0m\u001b[1;33m.\u001b[0m\u001b[0mformat\u001b[0m\u001b[1;33m(\u001b[0m\u001b[0marg\u001b[0m\u001b[1;33m=\u001b[0m\u001b[0marg\u001b[0m\u001b[1;33m)\u001b[0m\u001b[1;33m)\u001b[0m\u001b[1;33m\u001b[0m\u001b[1;33m\u001b[0m\u001b[0m\n\u001b[0m\u001b[0;32m    326\u001b[0m \u001b[1;33m\u001b[0m\u001b[0m\n\u001b[0;32m    327\u001b[0m     \u001b[1;32mdef\u001b[0m \u001b[0m_aggregate\u001b[0m\u001b[1;33m(\u001b[0m\u001b[0mself\u001b[0m\u001b[1;33m,\u001b[0m \u001b[0marg\u001b[0m\u001b[1;33m,\u001b[0m \u001b[1;33m*\u001b[0m\u001b[0margs\u001b[0m\u001b[1;33m,\u001b[0m \u001b[1;33m**\u001b[0m\u001b[0mkwargs\u001b[0m\u001b[1;33m)\u001b[0m\u001b[1;33m:\u001b[0m\u001b[1;33m\u001b[0m\u001b[1;33m\u001b[0m\u001b[0m\n",
      "\u001b[1;31mValueError\u001b[0m: Vertical Uncertainty (fixed) is an unknown string function"
     ]
    }
   ],
   "source": [
    "bag.aggregate('Vertical Uncertainty (fixed)', axis = 1)"
   ]
  },
  {
   "cell_type": "code",
   "execution_count": 23,
   "metadata": {},
   "outputs": [
    {
     "ename": "SyntaxError",
     "evalue": "invalid syntax (<ipython-input-23-301cbf778b51>, line 1)",
     "output_type": "error",
     "traceback": [
      "\u001b[1;36m  File \u001b[1;32m\"<ipython-input-23-301cbf778b51>\"\u001b[1;36m, line \u001b[1;32m1\u001b[0m\n\u001b[1;33m    bag.aggregate['Vertical Uncertainty (variable)', axis = 1]\u001b[0m\n\u001b[1;37m                                                          ^\u001b[0m\n\u001b[1;31mSyntaxError\u001b[0m\u001b[1;31m:\u001b[0m invalid syntax\n"
     ]
    }
   ],
   "source": [
    "bag.aggregate['Vertical Uncertainty (variable)', axis = 1]"
   ]
  },
  {
   "cell_type": "code",
   "execution_count": 27,
   "metadata": {},
   "outputs": [
    {
     "ename": "AttributeError",
     "evalue": "Cannot access callable attribute 'info' of 'DataFrameGroupBy' objects, try using the 'apply' method",
     "output_type": "error",
     "traceback": [
      "\u001b[1;31m---------------------------------------------------------------------------\u001b[0m",
      "\u001b[1;31mAttributeError\u001b[0m                            Traceback (most recent call last)",
      "\u001b[1;32m<ipython-input-27-aaca88b699d7>\u001b[0m in \u001b[0;36m<module>\u001b[1;34m\u001b[0m\n\u001b[0;32m      1\u001b[0m \u001b[0mb\u001b[0m \u001b[1;33m=\u001b[0m \u001b[0mbag\u001b[0m\u001b[1;33m.\u001b[0m\u001b[0mgroupby\u001b[0m\u001b[1;33m(\u001b[0m\u001b[1;34m'Vertical Uncertainty (fixed)'\u001b[0m\u001b[1;33m)\u001b[0m\u001b[1;33m\u001b[0m\u001b[1;33m\u001b[0m\u001b[0m\n\u001b[1;32m----> 2\u001b[1;33m \u001b[0mb\u001b[0m\u001b[1;33m.\u001b[0m\u001b[0minfo\u001b[0m\u001b[1;33m\u001b[0m\u001b[1;33m\u001b[0m\u001b[0m\n\u001b[0m",
      "\u001b[1;32mC:\\PYDROX~1\\envs\\Pydro367\\lib\\site-packages\\pandas\\core\\groupby\\groupby.py\u001b[0m in \u001b[0;36m__getattr__\u001b[1;34m(self, attr)\u001b[0m\n\u001b[0;32m    531\u001b[0m             \u001b[1;32mreturn\u001b[0m \u001b[0mself\u001b[0m\u001b[1;33m[\u001b[0m\u001b[0mattr\u001b[0m\u001b[1;33m]\u001b[0m\u001b[1;33m\u001b[0m\u001b[1;33m\u001b[0m\u001b[0m\n\u001b[0;32m    532\u001b[0m         \u001b[1;32mif\u001b[0m \u001b[0mhasattr\u001b[0m\u001b[1;33m(\u001b[0m\u001b[0mself\u001b[0m\u001b[1;33m.\u001b[0m\u001b[0mobj\u001b[0m\u001b[1;33m,\u001b[0m \u001b[0mattr\u001b[0m\u001b[1;33m)\u001b[0m\u001b[1;33m:\u001b[0m\u001b[1;33m\u001b[0m\u001b[1;33m\u001b[0m\u001b[0m\n\u001b[1;32m--> 533\u001b[1;33m             \u001b[1;32mreturn\u001b[0m \u001b[0mself\u001b[0m\u001b[1;33m.\u001b[0m\u001b[0m_make_wrapper\u001b[0m\u001b[1;33m(\u001b[0m\u001b[0mattr\u001b[0m\u001b[1;33m)\u001b[0m\u001b[1;33m\u001b[0m\u001b[1;33m\u001b[0m\u001b[0m\n\u001b[0m\u001b[0;32m    534\u001b[0m \u001b[1;33m\u001b[0m\u001b[0m\n\u001b[0;32m    535\u001b[0m         raise AttributeError(\"%r object has no attribute %r\" %\n",
      "\u001b[1;32mC:\\PYDROX~1\\envs\\Pydro367\\lib\\site-packages\\pandas\\core\\groupby\\groupby.py\u001b[0m in \u001b[0;36m_make_wrapper\u001b[1;34m(self, name)\u001b[0m\n\u001b[0;32m    568\u001b[0m                    \"using the 'apply' method\".format(kind, name,\n\u001b[0;32m    569\u001b[0m                                                      type(self).__name__))\n\u001b[1;32m--> 570\u001b[1;33m             \u001b[1;32mraise\u001b[0m \u001b[0mAttributeError\u001b[0m\u001b[1;33m(\u001b[0m\u001b[0mmsg\u001b[0m\u001b[1;33m)\u001b[0m\u001b[1;33m\u001b[0m\u001b[1;33m\u001b[0m\u001b[0m\n\u001b[0m\u001b[0;32m    571\u001b[0m \u001b[1;33m\u001b[0m\u001b[0m\n\u001b[0;32m    572\u001b[0m         \u001b[0mself\u001b[0m\u001b[1;33m.\u001b[0m\u001b[0m_set_group_selection\u001b[0m\u001b[1;33m(\u001b[0m\u001b[1;33m)\u001b[0m\u001b[1;33m\u001b[0m\u001b[1;33m\u001b[0m\u001b[0m\n",
      "\u001b[1;31mAttributeError\u001b[0m: Cannot access callable attribute 'info' of 'DataFrameGroupBy' objects, try using the 'apply' method"
     ]
    }
   ],
   "source": [
    "b = bag.groupby('Vertical Uncertainty (fixed)')\n",
    "b.info"
   ]
  },
  {
   "cell_type": "code",
   "execution_count": null,
   "metadata": {},
   "outputs": [],
   "source": [
    "bag.groupby[]"
   ]
  }
 ],
 "metadata": {
  "kernelspec": {
   "display_name": "Python 3",
   "language": "python",
   "name": "python3"
  },
  "language_info": {
   "codemirror_mode": {
    "name": "ipython",
    "version": 3
   },
   "file_extension": ".py",
   "mimetype": "text/x-python",
   "name": "python",
   "nbconvert_exporter": "python",
   "pygments_lexer": "ipython3",
   "version": "3.6.7"
  }
 },
 "nbformat": 4,
 "nbformat_minor": 2
}
